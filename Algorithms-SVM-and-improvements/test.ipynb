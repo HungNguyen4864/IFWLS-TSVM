{
 "cells": [
  {
   "cell_type": "code",
   "execution_count": 2,
   "metadata": {},
   "outputs": [],
   "source": [
    "import pandas as pd\n",
    "import numpy as np\n",
    "import time \n",
    "from sklearn.preprocessing import StandardScaler, MinMaxScaler, LabelEncoder # to slace the dataset\n",
    "from sklearn.model_selection import train_test_split, cross_val_score, GridSearchCV # to cross validate accuracy\n",
    "from ucimlrepo import fetch_ucirepo, list_available_datasets\n",
    "# check which datasets can be imported\n",
    "#list_available_datasets()\n",
    "from sklearn.impute import SimpleImputer # to imput missing value\n",
    "from TSVM_class import TSVM    # algorithm Twin Support Vector Machine (TSVM)\n",
    "from S_TSVM_class import S_TSVM #algorithm Structural Twin Support Vector Machine (S_TSVM)\n",
    "from TSVM_MCD_class import TSVM_MCD"
   ]
  },
  {
   "cell_type": "code",
   "execution_count": 3,
   "metadata": {},
   "outputs": [
    {
     "name": "stdout",
     "output_type": "stream",
     "text": [
      "liver_disorders with Linear Kernel\n"
     ]
    }
   ],
   "source": [
    "### Linear Kernel \n",
    "### liver_disorders    (345, 5) 16 classes\n",
    "print('liver_disorders with Linear Kernel')\n",
    "# fetch liver_disorders dataset\n",
    "liver_disorders = fetch_ucirepo(id=60)\n",
    "# data (as pandas dataframes)\n",
    "X1 = liver_disorders.data.features\n",
    "y1 = liver_disorders.data.targets\n",
    "X = X1.values\n",
    "y = y1.values.ravel()\n",
    "#print(type(X), type(y), X.shape, y.shape)\n",
    "#print('class labels', np.unique(y))\n",
    "B = X[np.where(y <= 5)]\n",
    "A = X[np.where(y > 5)]\n",
    "y_A = np.ones(len(A))\n",
    "y_B = -np.ones(len(B))\n",
    "AB = np.vstack((A,B))\n",
    "y_AB = np.hstack((y_A, y_B))\n",
    "AB_train, AB_test, y_train, y_test = train_test_split(AB, y_AB, test_size = 0.3, random_state = 1000)\n",
    "#scale the dataset\n",
    "mms = MinMaxScaler()\n",
    "AB_train_mms = mms.fit_transform(AB_train)\n",
    "AB_test_mms = mms.transform(AB_test)\n"
   ]
  },
  {
   "cell_type": "code",
   "execution_count": 4,
   "metadata": {},
   "outputs": [
    {
     "name": "stdout",
     "output_type": "stream",
     "text": [
      "best score of TSVM:  0.7341666666666666\n",
      "best params of TSVM {'c': 0.0001, 'c_': 0.0001}\n",
      "Test accuracy of TSVM: 78.8\n",
      "CV accuracy of TSVM: 73.4 +/- 8.2\n",
      "total run time of TSVM: 7.34 \n"
     ]
    }
   ],
   "source": [
    "### TSVM:\n",
    "start_time = time.time()\n",
    "clf_tsvm = TSVM( c = 1, c_ = 1)\n",
    "# clf_tsvm.fit(AB_train_mms, y_train)\n",
    "# print('Test accuracy of TSVM: %.1f' % clf_tsvm.score(AB_test_mms, y_test))\n",
    "# ###Cross validation score of TSVM\n",
    "# scores = cross_val_score(estimator = clf_tsvm, X = AB_train_mms, y = y_train, cv = 10, n_jobs = -1)\n",
    "# #print('CV accuracy scores of TSVM: %s' %scores)\n",
    "# print('CV accuracy of TSVM: %.1f +/- %.1f' % (np.mean(scores), np.std(scores)))\n",
    "### Tuning hyperparameters via grid search (TSVM)\n",
    "param_range = [0.0001, 0.001, 0.01, 0.1, 1.0, 10.0, 100.0, 1000.0]\n",
    "param_grid_tsvm = [{'c': param_range, 'c_': param_range}]\n",
    "gs_tsvm = GridSearchCV(estimator = clf_tsvm, param_grid = param_grid_tsvm, scoring = 'accuracy', cv = 10, n_jobs = -1)\n",
    "gs_tsvm = gs_tsvm.fit(AB_train_mms, y_train)\n",
    "print('best score of TSVM: ', gs_tsvm.best_score_)\n",
    "print('best params of TSVM', gs_tsvm.best_params_)\n",
    "clf_tsvm = gs_tsvm.best_estimator_\n",
    "clf_tsvm.fit(AB_train_mms, y_train)\n",
    "print('Test accuracy of TSVM: %.1f' % clf_tsvm.score(AB_test_mms, y_test))\n",
    "scores = cross_val_score(estimator = clf_tsvm, X = AB_train_mms, y = y_train, cv = 10, n_jobs = -1)\n",
    "print('CV accuracy of TSVM: %.1f +/- %.1f' %(np.mean(scores), np.std(scores)))\n",
    "end_time = time.time()\n",
    "print('total run time of TSVM: %.2f ' %((end_time - start_time)))"
   ]
  },
  {
   "cell_type": "code",
   "execution_count": 5,
   "metadata": {},
   "outputs": [
    {
     "name": "stdout",
     "output_type": "stream",
     "text": [
      "best score of S_TSVM:  0.7341666666666666\n",
      "best params of S_TSVM {'c1': 0.0001, 'c4': 0.0001}\n",
      "Test accuracy of S_TSVM: 78.8\n",
      "CV accuracy of S_TSVM: 73.4 +/- 8.2\n",
      "total run time of S_TSVM: 2.80 \n"
     ]
    }
   ],
   "source": [
    "### S_TSVM:\n",
    "start_time = time.time()\n",
    "clf_stsvm = S_TSVM(c1 = 1, c2 = 1, c3 = 1, c4 = 1)\n",
    "# clf_stsvm.fit(AB_train_mms, y_train)\n",
    "# print('Test accuracy of S_TSVM: %.1f' % clf_stsvm.score(AB_test_mms, y_test))\n",
    "# ###Cross validation score of S_TSVM\n",
    "# scores = cross_val_score(estimator = clf_stsvm, X = AB_train_mms, y = y_train, cv = 10, n_jobs = -1)\n",
    "# #print('CV accuracy scores of S_TSVM: %s' %scores)\n",
    "# print('CV accuracy of S_TSVM: %.1f +/- %.1f' % (np.mean(scores), np.std(scores)))\n",
    "### Tuning hyperparameters via grid search (S_TSVM)\n",
    "param_range = [0.0001, 0.001, 0.01, 0.1, 1.0, 10.0, 100.0, 1000.0]\n",
    "param_grid_stsvm = [{'c1': param_range, 'c4': param_range}]\n",
    "gs_stsvm = GridSearchCV(estimator = clf_stsvm, param_grid = param_grid_stsvm, scoring = 'accuracy', cv = 10, n_jobs = -1)\n",
    "gs_stsvm = gs_stsvm.fit(AB_train_mms, y_train)\n",
    "print('best score of S_TSVM: ', gs_stsvm.best_score_)\n",
    "print('best params of S_TSVM', gs_stsvm.best_params_)\n",
    "clf_stsvm = gs_stsvm.best_estimator_\n",
    "clf_stsvm.fit(AB_train_mms, y_train)\n",
    "print('Test accuracy of S_TSVM: %.1f' % clf_stsvm.score(AB_test_mms, y_test))\n",
    "scores = cross_val_score(estimator = clf_stsvm, X = AB_train_mms, y = y_train, cv = 10, n_jobs = -1)\n",
    "print('CV accuracy of S_TSVM: %.1f +/- %.1f' %(np.mean(scores), np.std(scores)))\n",
    "end_time = time.time()\n",
    "print('total run time of S_TSVM: %.2f ' %((end_time - start_time)))"
   ]
  },
  {
   "cell_type": "code",
   "execution_count": 6,
   "metadata": {},
   "outputs": [
    {
     "name": "stdout",
     "output_type": "stream",
     "text": [
      "best score of TSVM_MCD:  0.7675000000000001\n",
      "best params of TSVM_MCD {'c1': 0.0001, 'c3': 0.0001}\n",
      "Test accuracy of TSVM_MCD: 78.8\n",
      "CV accuracy of TSVM_MCD: 76.8 +/- 8.2\n",
      "total run time of TSVM_MCD: 3.20 \n",
      "(k, l): (1.0, 2.0)\n"
     ]
    }
   ],
   "source": [
    "### TSVM_MCD:\n",
    "start_time = time.time()\n",
    "clf_tsvm_mcd = TSVM_MCD(c1 = 1, c2 = 1, c3 = 1, c4 = 1)\n",
    "# clf_tsvm_mcd.fit(AB_train_mms, y_train)\n",
    "# print('Test accuracy of TSVM_MCD: %.1f' % clf_tsvm_mcd.score(AB_test_mms, y_test))\n",
    "# ###Cross validation score of TSVM_MCD\n",
    "# scores = cross_val_score(estimator = clf_tsvm_mcd, X = AB_train_mms, y = y_train, cv = 10, n_jobs = -1)\n",
    "# #print('CV accuracy scores of TSVM_MCD: %s' %scores)\n",
    "# print('CV accuracy of TSVM_MCD: %.1f +/- %.1f' % (np.mean(scores), np.std(scores)))\n",
    "### Tuning hyperparameters via grid search (TSVM_MCD)\n",
    "param_range = [0.0001, 0.001, 0.01, 0.1, 1.0, 10.0, 100.0, 1000.0]\n",
    "param_grid_tsvm_mcd = [{'c1': param_range, 'c3': param_range}]\n",
    "gs_tsvm_mcd = GridSearchCV(estimator = clf_tsvm_mcd, param_grid = param_grid_tsvm_mcd, scoring = 'accuracy', cv = 10, n_jobs = -1)\n",
    "gs_tsvm_mcd = gs_tsvm_mcd.fit(AB_train_mms, y_train)\n",
    "print('best score of TSVM_MCD: ', gs_tsvm_mcd.best_score_)\n",
    "print('best params of TSVM_MCD', gs_tsvm_mcd.best_params_)\n",
    "clf_tsvm_mcd = gs_tsvm_mcd.best_estimator_\n",
    "clf_tsvm_mcd.fit(AB_train_mms, y_train)\n",
    "print('Test accuracy of TSVM_MCD: %.1f' % clf_tsvm_mcd.score(AB_test_mms, y_test))\n",
    "scores = cross_val_score(estimator = clf_tsvm_mcd, X = AB_train_mms, y = y_train, cv = 10, n_jobs = -1)\n",
    "print('CV accuracy of TSVM_MCD: %.1f +/- %.1f' %(np.mean(scores), np.std(scores)))\n",
    "end_time = time.time()\n",
    "print('total run time of TSVM_MCD: %.2f ' %((end_time - start_time)))\n",
    "print(\"(k, l): (%.1f, %.1f)\" %((clf_tsvm_mcd.k, clf_tsvm_mcd.l)))"
   ]
  }
 ],
 "metadata": {
  "kernelspec": {
   "display_name": "base",
   "language": "python",
   "name": "python3"
  },
  "language_info": {
   "codemirror_mode": {
    "name": "ipython",
    "version": 3
   },
   "file_extension": ".py",
   "mimetype": "text/x-python",
   "name": "python",
   "nbconvert_exporter": "python",
   "pygments_lexer": "ipython3",
   "version": "3.11.7"
  }
 },
 "nbformat": 4,
 "nbformat_minor": 2
}
