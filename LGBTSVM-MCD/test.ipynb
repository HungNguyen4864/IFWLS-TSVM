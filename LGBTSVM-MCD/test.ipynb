{
 "cells": [
  {
   "cell_type": "code",
   "execution_count": 14,
   "id": "1b817239",
   "metadata": {},
   "outputs": [],
   "source": [
    "import pandas as pd\n",
    "import numpy as np\n",
    "from sklearn.preprocessing import StandardScaler, MinMaxScaler, LabelEncoder, OrdinalEncoder, Binarizer\n",
    "from imblearn.over_sampling import SMOTENC, SMOTEN, SMOTE\n",
    "from sklearn.model_selection import train_test_split, cross_val_score, GridSearchCV \n",
    "from gen_ball_mix import gen_balls\n",
    "from classGBTSVM import OvO_GBTSVM , MultiLabelGBTSVM, GBTSVM, OVR_GBTSVM\n",
    "from classLGBTSVM import OvO_LGBTSVM, OvR_LGBTSVM, LGBTSVM\n",
    "from ucimlrepo import fetch_ucirepo \n",
    "from scipy.stats import zscore"
   ]
  },
  {
   "cell_type": "code",
   "execution_count": 15,
   "id": "11749ee2",
   "metadata": {},
   "outputs": [],
   "source": [
    "def evaluate_base_model(model_class, train_data, test_data, *params):\n",
    "    model = model_class(*params)\n",
    "    model.fit(train_data)\n",
    "    y_pred = model.predict(test_data)\n",
    "    accuracy = model.score(test_data)\n",
    "    return accuracy"
   ]
  },
  {
   "cell_type": "code",
   "execution_count": 16,
   "id": "398df897",
   "metadata": {},
   "outputs": [],
   "source": [
    "def evaluate_model(model_class, X_train, y_train, X_test, y_test, *params):\n",
    "    model = model_class(*params)\n",
    "    model.fit(X_train, y_train)\n",
    "    y_pred = model.predict(X_test)\n",
    "    accuracy = model.score(X_test, y_test)\n",
    "    return accuracy"
   ]
  },
  {
   "cell_type": "code",
   "execution_count": 17,
   "id": "4355ba60",
   "metadata": {},
   "outputs": [],
   "source": [
    "ecoli = fetch_ucirepo(id=42) \n",
    "X = ecoli.data.features \n",
    "y = ecoli.data.targets.squeeze()"
   ]
  },
  {
   "cell_type": "code",
   "execution_count": 18,
   "id": "9d5cf71e",
   "metadata": {},
   "outputs": [],
   "source": [
    "smote = SMOTE(random_state=42, k_neighbors=1)\n",
    "X_res, y_res = smote.fit_resample(X, y)"
   ]
  },
  {
   "cell_type": "code",
   "execution_count": 19,
   "id": "31dbb754",
   "metadata": {},
   "outputs": [],
   "source": [
    "df = pd.concat([X_res, y_res], axis=1)\n",
    "target_col = y.name\n",
    "enc_target = LabelEncoder()\n",
    "df[target_col] = enc_target.fit_transform(df[target_col]).astype(np.float64)"
   ]
  },
  {
   "cell_type": "code",
   "execution_count": 20,
   "id": "a00eaa02",
   "metadata": {},
   "outputs": [],
   "source": [
    "data = df.to_numpy(dtype=np.float64)\n",
    "m,n = data.shape"
   ]
  },
  {
   "cell_type": "code",
   "execution_count": 21,
   "id": "a120ca96",
   "metadata": {},
   "outputs": [],
   "source": [
    "scaler = MinMaxScaler(feature_range=(-1, 1))\n",
    "data[:, :-1] = scaler.fit_transform(data[:, :-1])"
   ]
  },
  {
   "cell_type": "code",
   "execution_count": 22,
   "id": "b7a3c3b2",
   "metadata": {},
   "outputs": [],
   "source": [
    "np.random.seed(0)\n",
    "indices = np.random.permutation(m)\n",
    "data = data[indices]\n",
    "A_train=data[0:int(m*(1-0.20))]\n",
    "A_test=data[int(m * (1-0.20)):]"
   ]
  },
  {
   "cell_type": "code",
   "execution_count": 23,
   "id": "4c198c1f",
   "metadata": {},
   "outputs": [],
   "source": [
    "pur = 1 - (0.015 * 5)                      \n",
    "num = 2\n",
    "A_train = gen_balls(A_train, pur=pur, delbals=num)\n",
    "\n",
    "Radius=[]\n",
    "for i in A_train:\n",
    "    Radius.append(i[1])\n",
    "Center=[]\n",
    "for ii in A_train:\n",
    "    Center.append(ii[0])\n",
    "Label=[]\n",
    "for iii in A_train:\n",
    "    Label.append(iii[-1])\n",
    "Radius=np.array(Radius)\n",
    "Center=np.array(Center)\n",
    "Label=np.array(Label)\n",
    "Z_train=np.hstack((Center,Radius.reshape(Radius.shape[0], 1)))\n",
    "Lab=Label.reshape(Label.shape[0], 1)\n",
    "A_train=np.hstack((Z_train,Lab))"
   ]
  },
  {
   "cell_type": "code",
   "execution_count": 24,
   "id": "ad6fd820",
   "metadata": {},
   "outputs": [],
   "source": [
    "X_train = A_train[:,:-1]\n",
    "X_test = A_test[:,:-1]\n",
    "y_train = A_train[:,-1]\n",
    "y_test = A_test[:,-1]"
   ]
  },
  {
   "cell_type": "code",
   "execution_count": 25,
   "id": "46fecfc7",
   "metadata": {},
   "outputs": [],
   "source": [
    "accuracy_gbtsvm = evaluate_base_model(GBTSVM, A_train, A_test, 0.1, 0.1, 0.05, 0.05)\n",
    "accuracy_lgbtsvm = evaluate_base_model(LGBTSVM, A_train, A_test, 0.1, 0.1, 0.1, 0.1)\n",
    "accuracy_ovo_gbtsvm = evaluate_model(OvO_GBTSVM, X_train, y_train, X_test, y_test, 0.1, 0.1, 0.05, 0.05)\n",
    "accuracy_ovr_gbtsvm = evaluate_model(OVR_GBTSVM, X_train, y_train, X_test, y_test, 0.1, 0.1, 0.05, 0.05)\n",
    "accuracy_multi_gbtsvm = evaluate_model(MultiLabelGBTSVM, X_train, y_train, X_test, y_test, 0.1, 0.1, 0.05, 0.05)\n",
    "accuracy_ovo_lgbtsvm = evaluate_base_model(OvO_LGBTSVM, A_train, A_test, 0.1, 0.1, 0.1, 0.1)\n",
    "accuracy_ovr_lgbtsvm = evaluate_base_model(OvR_LGBTSVM, A_train, A_test, 0.1, 0.1, 0.1, 0.1)"
   ]
  },
  {
   "cell_type": "code",
   "execution_count": 26,
   "id": "15ffeb03",
   "metadata": {},
   "outputs": [
    {
     "name": "stdout",
     "output_type": "stream",
     "text": [
      "Accuracy of GBTSVM: 0.0\n",
      "Accuracy of LGBTSVM: 0.0\n",
      "Accuracy of OvO_GBTSVM: 72.82608695652173\n",
      "Accuracy of OVR_GBTSVM: 35.869565217391305\n",
      "Accuracy of MultiLabelGBTSVM: 44.565217391304344\n",
      "Accuracy of OvO_LGBTSVM: 33.69565217391305\n",
      "Accuracy of OvR_LGBTSVM: 32.608695652173914\n"
     ]
    }
   ],
   "source": [
    "print(f\"Accuracy of GBTSVM: {accuracy_gbtsvm}\")\n",
    "print(f\"Accuracy of LGBTSVM: {accuracy_lgbtsvm}\")\n",
    "print(f\"Accuracy of OvO_GBTSVM: {accuracy_ovo_gbtsvm}\")\n",
    "print(f\"Accuracy of OVR_GBTSVM: {accuracy_ovr_gbtsvm}\")\n",
    "print(f\"Accuracy of MultiLabelGBTSVM: {accuracy_multi_gbtsvm}\")\n",
    "print(f\"Accuracy of OvO_LGBTSVM: {accuracy_ovo_lgbtsvm}\")\n",
    "print(f\"Accuracy of OvR_LGBTSVM: {accuracy_ovr_lgbtsvm}\")"
   ]
  }
 ],
 "metadata": {
  "kernelspec": {
   "display_name": "base",
   "language": "python",
   "name": "python3"
  },
  "language_info": {
   "codemirror_mode": {
    "name": "ipython",
    "version": 3
   },
   "file_extension": ".py",
   "mimetype": "text/x-python",
   "name": "python",
   "nbconvert_exporter": "python",
   "pygments_lexer": "ipython3",
   "version": "3.11.7"
  }
 },
 "nbformat": 4,
 "nbformat_minor": 5
}
