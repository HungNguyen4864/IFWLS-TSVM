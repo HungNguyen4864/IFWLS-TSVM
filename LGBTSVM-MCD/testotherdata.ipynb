{
 "cells": [
  {
   "cell_type": "code",
   "execution_count": 1,
   "id": "edaabb55",
   "metadata": {},
   "outputs": [],
   "source": [
    "import pandas as pd\n",
    "import numpy as np\n",
    "import time \n",
    "import os\n",
    "from sklearn.preprocessing import StandardScaler, MinMaxScaler, LabelEncoder # to slace the dataset\n",
    "from sklearn.model_selection import train_test_split, cross_val_score, GridSearchCV # to cross validate accuracy\n",
    "from gen_ball import gen_balls\n",
    "from classGBTSVM import OvO_GBTSVM, GBTSVM\n",
    "from classLGBTSVM import LGBTSVM, OvO_LGBTSVM, OvR_LGBTSVM"
   ]
  },
  {
   "cell_type": "code",
   "execution_count": 2,
   "id": "b0197f72",
   "metadata": {},
   "outputs": [
    {
     "name": "stdout",
     "output_type": "stream",
     "text": [
      "Kích thước dữ liệu sau khi lọc: (3655, 12)\n"
     ]
    }
   ],
   "source": [
    "directory = r\"D:/LGBTSVM_MCD/LGBTSVM-MCD\"\n",
    "file_path = os.path.join(directory, \"winequality-white_new.csv\")\n",
    "file_data = np.loadtxt(file_path, delimiter=',')\n",
    "labels = file_data[:, -1]\n",
    "\n",
    "# Lọc dữ liệu chỉ lấy các hàng có nhãn là 5, 6, hoặc 7\n",
    "filtered_data = file_data[np.isin(labels, [5, 6])]\n",
    "m, n = filtered_data.shape\n",
    "for i in range(m):\n",
    "    if filtered_data[i, n-1] == 5:\n",
    "        filtered_data[i, n-1] = -1\n",
    "    else:\n",
    "        filtered_data[i, n-1] = 1\n",
    "print(\"Kích thước dữ liệu sau khi lọc:\", filtered_data.shape)"
   ]
  },
  {
   "cell_type": "code",
   "execution_count": 3,
   "id": "f9ebe6f3",
   "metadata": {},
   "outputs": [
    {
     "name": "stdout",
     "output_type": "stream",
     "text": [
      "Kích thước dữ liệu sau khi lọc outlier: (2989, 12)\n"
     ]
    }
   ],
   "source": [
    "def filter_outliers(data, factor=1.5):\n",
    "    \"\"\"\n",
    "    Loại bỏ các hàng có giá trị ngoại lai (outliers) dựa trên IQR cho các thuộc tính.\n",
    "    \n",
    "    Parameters:\n",
    "        data (numpy.ndarray): Ma trận dữ liệu với các cột thuộc tính và cột nhãn ở cuối.\n",
    "        factor (float): Hệ số nhân cho IQR. Giá trị mặc định là 1.5.\n",
    "        \n",
    "    Returns:\n",
    "        numpy.ndarray: Dữ liệu sau khi loại bỏ các outlier.\n",
    "    \"\"\"\n",
    "    # Chọn các cột thuộc tính (loại bỏ cột nhãn cuối cùng)\n",
    "    features = data[:, :-1]\n",
    "    \n",
    "    # Tính phần tư thứ nhất (Q1) và phần tư thứ ba (Q3)\n",
    "    q1 = np.percentile(features, 25, axis=0)\n",
    "    q3 = np.percentile(features, 75, axis=0)\n",
    "    \n",
    "    # Tính IQR cho mỗi cột thuộc tính\n",
    "    iqr = q3 - q1\n",
    "    \n",
    "    # Xác định biên dưới và biên trên cho mỗi cột\n",
    "    lower_bound = q1 - factor * iqr\n",
    "    upper_bound = q3 + factor * iqr\n",
    "    \n",
    "    # Tạo mặt nạ boolean: chỉ giữ các hàng mà mọi cột thuộc tính đều nằm trong khoảng cho phép\n",
    "    mask = np.all((features >= lower_bound) & (features <= upper_bound), axis=1)\n",
    "    return data[mask]\n",
    "\n",
    "# Lọc bỏ các outlier từ dữ liệu đã lọc nhãn\n",
    "filtered_data_no_outliers = filter_outliers(filtered_data, factor=1.5)\n",
    "print(\"Kích thước dữ liệu sau khi lọc outlier:\", filtered_data_no_outliers.shape)"
   ]
  },
  {
   "cell_type": "code",
   "execution_count": 4,
   "id": "586b080a",
   "metadata": {},
   "outputs": [],
   "source": [
    "scaler = MinMaxScaler(feature_range=(-1, 1))\n",
    "filtered_data_no_outliers[:, :-1] = scaler.fit_transform(filtered_data_no_outliers[:, :-1])\n",
    "filtered_data_no_outliers[:, :-1] = np.round(filtered_data_no_outliers[:, :-1], 5)"
   ]
  },
  {
   "cell_type": "code",
   "execution_count": 5,
   "id": "23ba0076",
   "metadata": {},
   "outputs": [
    {
     "name": "stdout",
     "output_type": "stream",
     "text": [
      "Kích thước dữ liệu sau khi giảm mẫu: (2289, 12)\n"
     ]
    }
   ],
   "source": [
    "labels = filtered_data_no_outliers[:, -1]\n",
    "\n",
    "# Lấy index (chỉ số) của các mẫu nhãn 5\n",
    "# indices_label_5 = np.where(labels == 5)[0]\n",
    "# remove_5 = np.random.choice(indices_label_5, size=300, replace=False)\n",
    "\n",
    "# Tương tự với nhãn 6\n",
    "indices_label_6 = np.where(labels == 1)[0]\n",
    "remove_6 = np.random.choice(indices_label_6, size=700, replace=False)\n",
    "\n",
    "# Gộp hai mảng chỉ số cần xóa\n",
    "# indices_to_remove = np.concatenate((remove_5, remove_6))\n",
    "\n",
    "# Xóa các dòng tương ứng khỏi filtered_data\n",
    "filtered_data_reduced = np.delete(filtered_data_no_outliers, remove_6, axis=0)\n",
    "m, n = filtered_data_reduced.shape\n",
    "# Kiểm tra kích thước sau khi giảm bớt mẫu\n",
    "print(\"Kích thước dữ liệu sau khi giảm mẫu:\", filtered_data_reduced.shape)"
   ]
  },
  {
   "cell_type": "code",
   "execution_count": 6,
   "id": "2253e92b",
   "metadata": {},
   "outputs": [
    {
     "data": {
      "text/plain": [
       "array([[-0.25581,  0.08642,  0.03571, ...,  0.04   , -0.55102,  1.     ],\n",
       "       [ 0.16279, -0.25926, -0.03571, ..., -0.32   , -0.38776,  1.     ],\n",
       "       [ 0.16279, -0.25926, -0.03571, ..., -0.32   , -0.38776,  1.     ],\n",
       "       ...,\n",
       "       [-0.11628,  0.18519,  0.10714, ..., -0.08   , -0.5102 , -1.     ],\n",
       "       [-0.16279, -0.20988, -0.5    , ..., -0.08   , -0.59184,  1.     ],\n",
       "       [-0.39535, -0.35802,  0.17857, ..., -0.64   ,  0.38776,  1.     ]])"
      ]
     },
     "execution_count": 6,
     "metadata": {},
     "output_type": "execute_result"
    }
   ],
   "source": [
    "filtered_data_reduced"
   ]
  },
  {
   "cell_type": "code",
   "execution_count": 7,
   "id": "c1fb7575",
   "metadata": {},
   "outputs": [],
   "source": [
    "np.random.seed(0)\n",
    "indices = np.random.permutation(m)\n",
    "filtered_data_reduced = filtered_data_reduced[indices]\n",
    "A_train=filtered_data_reduced[0:int(m*(1-0.20))]\n",
    "A_test=filtered_data_reduced[int(m * (1-0.20)):]"
   ]
  },
  {
   "cell_type": "code",
   "execution_count": 8,
   "id": "c8a68f47",
   "metadata": {},
   "outputs": [],
   "source": [
    "pur = 1 - (0.015 * 5)          \n",
    "# pur = 1 - (0.015 * 10)                \n",
    "num = 4\n",
    "c1=0.00001\n",
    "c2=0.00001\n",
    "            \n",
    "A_train = gen_balls(A_train, pur=pur, delbals=num)\n",
    "\n",
    "Radius=[]\n",
    "for i in A_train:\n",
    "    Radius.append(i[1])\n",
    "Center=[]\n",
    "for ii in A_train:\n",
    "    Center.append(ii[0])\n",
    "Label=[]\n",
    "for iii in A_train:\n",
    "    Label.append(iii[-1])\n",
    "Radius=np.array(Radius)\n",
    "Center=np.array(Center)\n",
    "Label=np.array(Label)\n",
    "Z_train=np.hstack((Center,Radius.reshape(Radius.shape[0], 1)))\n",
    "Lab=Label.reshape(Label.shape[0], 1)\n",
    "A_train=np.hstack((Z_train,Lab))"
   ]
  },
  {
   "cell_type": "code",
   "execution_count": 9,
   "id": "fb072aa5",
   "metadata": {},
   "outputs": [],
   "source": [
    "X_train = A_train[:,:-1]\n",
    "X_test = A_test[:,:-1]\n",
    "y_train = A_train[:,-1]\n",
    "y_test = A_test[:,-1]"
   ]
  },
  {
   "cell_type": "code",
   "execution_count": 10,
   "id": "721a5ed5",
   "metadata": {},
   "outputs": [
    {
     "name": "stdout",
     "output_type": "stream",
     "text": [
      "[ 1.  1.  1. -1.  1.  1. -1.  1. -1.  1. -1.  1.  1. -1.  1. -1. -1. -1.\n",
      " -1.  1. -1. -1.  1.  1.  1. -1. -1.  1. -1. -1. -1.  1.  1.  1.  1. -1.\n",
      " -1. -1. -1.  1. -1.  1.  1. -1.  1.  1.  1.  1.  1.  1.  1. -1.  1.  1.\n",
      " -1.  1.  1. -1.  1.  1.  1.  1.  1. -1.  1. -1.  1. -1.  1.  1. -1. -1.\n",
      "  1. -1. -1.  1.  1.  1.  1.  1. -1. -1. -1.  1.  1.  1.  1. -1. -1. -1.\n",
      " -1. -1. -1.  1.  1.  1.  1.  1.  1.  1.  1. -1. -1.  1. -1.  1. -1. -1.\n",
      "  1.  1. -1.  1. -1.  1. -1. -1. -1. -1.  1. -1. -1. -1.  1. -1. -1. -1.\n",
      "  1. -1. -1. -1. -1.  1.  1. -1. -1. -1. -1. -1. -1.  1.  1. -1.  1. -1.\n",
      "  1. -1. -1. -1.  1. -1.  1. -1. -1. -1. -1. -1.  1. -1.  1. -1.  1. -1.\n",
      "  1. -1.  1.  1.  1. -1.  1.  1. -1.  1.  1.  1. -1.  1. -1. -1. -1. -1.\n",
      "  1. -1.  1.  1. -1. -1.  1.  1. -1. -1. -1.  1.  1.  1.  1. -1.  1.  1.\n",
      "  1.  1. -1. -1.  1.  1.  1. -1. -1. -1. -1.  1. -1.  1.  1. -1.  1.  1.\n",
      "  1.  1.  1. -1. -1. -1. -1.  1. -1. -1.  1.  1.  1.  1.  1.  1. -1.  1.\n",
      "  1.  1. -1.  1. -1. -1. -1.  1. -1. -1. -1.  1.  1. -1. -1.  1. -1.  1.\n",
      " -1. -1. -1.  1.  1.  1. -1.  1. -1.  1. -1.  1. -1.  1. -1.  1.  1. -1.\n",
      " -1. -1.  1. -1. -1. -1.  1. -1. -1. -1. -1. -1. -1.  1.  1.  1. -1. -1.\n",
      " -1. -1.  1. -1.  1.  1.  1.  1. -1.  1.  1. -1. -1. -1. -1. -1.  1.  1.\n",
      " -1. -1. -1. -1.  1. -1. -1. -1. -1.  1.  1.  1. -1.  1. -1.  1. -1.  1.\n",
      " -1.  1.  1.  1. -1. -1. -1.  1.  1.  1. -1. -1.  1.  1. -1.  1. -1. -1.\n",
      " -1. -1. -1.  1.  1. -1. -1. -1. -1. -1.  1. -1. -1. -1. -1.  1. -1. -1.\n",
      " -1. -1.  1.  1.  1.  1.  1.  1.  1. -1.  1.  1. -1.  1. -1. -1.  1.  1.\n",
      "  1. -1.  1.  1. -1. -1. -1. -1.  1.  1.  1.  1.  1.  1.  1. -1.  1.  1.\n",
      " -1. -1. -1. -1. -1. -1. -1. -1. -1. -1.  1.  1.  1. -1. -1. -1.  1. -1.\n",
      " -1. -1. -1. -1. -1. -1.  1. -1. -1.  1. -1. -1.  1.  1.  1. -1. -1.  1.\n",
      "  1.  1. -1.  1. -1. -1.  1.  1. -1. -1.  1.  1.  1.  1. -1.  1.  1. -1.\n",
      "  1. -1. -1. -1. -1. -1. -1. -1.]\n"
     ]
    },
    {
     "data": {
      "text/plain": [
       "67.24890829694323"
      ]
     },
     "execution_count": 10,
     "metadata": {},
     "output_type": "execute_result"
    }
   ],
   "source": [
    "ovo_tsvm = OvO_GBTSVM(d1=0.1, d2=0.1, eps1=0.05, eps2=0.05)\n",
    "\n",
    "# Huấn luyện mô hình\n",
    "ovo_tsvm.fit(X_train, y_train)\n",
    "y_pred = ovo_tsvm.predict(X_test)\n",
    "print(y_test)\n",
    "# Đánh giá độ chính xác\n",
    "accuracy = ovo_tsvm.score(X_test, y_test)\n",
    "\n",
    "accuracy"
   ]
  },
  {
   "cell_type": "code",
   "execution_count": 11,
   "id": "11daab82",
   "metadata": {},
   "outputs": [
    {
     "name": "stdout",
     "output_type": "stream",
     "text": [
      "[ 1.  1.  1. -1.  1.  1. -1.  1. -1.  1. -1.  1.  1. -1.  1. -1. -1. -1.\n",
      " -1.  1. -1. -1.  1.  1.  1. -1. -1.  1. -1. -1. -1.  1.  1.  1.  1. -1.\n",
      " -1. -1. -1.  1. -1.  1.  1. -1.  1.  1.  1.  1.  1.  1.  1. -1.  1.  1.\n",
      " -1.  1.  1. -1.  1.  1.  1.  1.  1. -1.  1. -1.  1. -1.  1.  1. -1. -1.\n",
      "  1. -1. -1.  1.  1.  1.  1.  1. -1. -1. -1.  1.  1.  1.  1. -1. -1. -1.\n",
      " -1. -1. -1.  1.  1.  1.  1.  1.  1.  1.  1. -1. -1.  1. -1.  1. -1. -1.\n",
      "  1.  1. -1.  1. -1.  1. -1. -1. -1. -1.  1. -1. -1. -1.  1. -1. -1. -1.\n",
      "  1. -1. -1. -1. -1.  1.  1. -1. -1. -1. -1. -1. -1.  1.  1. -1.  1. -1.\n",
      "  1. -1. -1. -1.  1. -1.  1. -1. -1. -1. -1. -1.  1. -1.  1. -1.  1. -1.\n",
      "  1. -1.  1.  1.  1. -1.  1.  1. -1.  1.  1.  1. -1.  1. -1. -1. -1. -1.\n",
      "  1. -1.  1.  1. -1. -1.  1.  1. -1. -1. -1.  1.  1.  1.  1. -1.  1.  1.\n",
      "  1.  1. -1. -1.  1.  1.  1. -1. -1. -1. -1.  1. -1.  1.  1. -1.  1.  1.\n",
      "  1.  1.  1. -1. -1. -1. -1.  1. -1. -1.  1.  1.  1.  1.  1.  1. -1.  1.\n",
      "  1.  1. -1.  1. -1. -1. -1.  1. -1. -1. -1.  1.  1. -1. -1.  1. -1.  1.\n",
      " -1. -1. -1.  1.  1.  1. -1.  1. -1.  1. -1.  1. -1.  1. -1.  1.  1. -1.\n",
      " -1. -1.  1. -1. -1. -1.  1. -1. -1. -1. -1. -1. -1.  1.  1.  1. -1. -1.\n",
      " -1. -1.  1. -1.  1.  1.  1.  1. -1.  1.  1. -1. -1. -1. -1. -1.  1.  1.\n",
      " -1. -1. -1. -1.  1. -1. -1. -1. -1.  1.  1.  1. -1.  1. -1.  1. -1.  1.\n",
      " -1.  1.  1.  1. -1. -1. -1.  1.  1.  1. -1. -1.  1.  1. -1.  1. -1. -1.\n",
      " -1. -1. -1.  1.  1. -1. -1. -1. -1. -1.  1. -1. -1. -1. -1.  1. -1. -1.\n",
      " -1. -1.  1.  1.  1.  1.  1.  1.  1. -1.  1.  1. -1.  1. -1. -1.  1.  1.\n",
      "  1. -1.  1.  1. -1. -1. -1. -1.  1.  1.  1.  1.  1.  1.  1. -1.  1.  1.\n",
      " -1. -1. -1. -1. -1. -1. -1. -1. -1. -1.  1.  1.  1. -1. -1. -1.  1. -1.\n",
      " -1. -1. -1. -1. -1. -1.  1. -1. -1.  1. -1. -1.  1.  1.  1. -1. -1.  1.\n",
      "  1.  1. -1.  1. -1. -1.  1.  1. -1. -1.  1.  1.  1.  1. -1.  1.  1. -1.\n",
      "  1. -1. -1. -1. -1. -1. -1. -1.]\n"
     ]
    },
    {
     "data": {
      "text/plain": [
       "0.5458515283842795"
      ]
     },
     "execution_count": 11,
     "metadata": {},
     "output_type": "execute_result"
    }
   ],
   "source": [
    "ovo_tsvm = OvO_LGBTSVM(d1=0.1, d2=0.1, d3=0.1, d4=0.1)\n",
    "\n",
    "# Huấn luyện mô hình\n",
    "ovo_tsvm.fit(X_train, y_train)\n",
    "y_pred = ovo_tsvm.predict(X_test)\n",
    "print(y_test)\n",
    "# Đánh giá độ chính xác\n",
    "accuracy = ovo_tsvm.score(X_test, y_test)\n",
    "\n",
    "accuracy"
   ]
  },
  {
   "cell_type": "code",
   "execution_count": 12,
   "id": "50b3fddf",
   "metadata": {},
   "outputs": [
    {
     "name": "stdout",
     "output_type": "stream",
     "text": [
      "[ 1.  1.  1. -1.  1.  1. -1.  1. -1.  1. -1.  1.  1. -1.  1. -1. -1. -1.\n",
      " -1.  1. -1. -1.  1.  1.  1. -1. -1.  1. -1. -1. -1.  1.  1.  1.  1. -1.\n",
      " -1. -1. -1.  1. -1.  1.  1. -1.  1.  1.  1.  1.  1.  1.  1. -1.  1.  1.\n",
      " -1.  1.  1. -1.  1.  1.  1.  1.  1. -1.  1. -1.  1. -1.  1.  1. -1. -1.\n",
      "  1. -1. -1.  1.  1.  1.  1.  1. -1. -1. -1.  1.  1.  1.  1. -1. -1. -1.\n",
      " -1. -1. -1.  1.  1.  1.  1.  1.  1.  1.  1. -1. -1.  1. -1.  1. -1. -1.\n",
      "  1.  1. -1.  1. -1.  1. -1. -1. -1. -1.  1. -1. -1. -1.  1. -1. -1. -1.\n",
      "  1. -1. -1. -1. -1.  1.  1. -1. -1. -1. -1. -1. -1.  1.  1. -1.  1. -1.\n",
      "  1. -1. -1. -1.  1. -1.  1. -1. -1. -1. -1. -1.  1. -1.  1. -1.  1. -1.\n",
      "  1. -1.  1.  1.  1. -1.  1.  1. -1.  1.  1.  1. -1.  1. -1. -1. -1. -1.\n",
      "  1. -1.  1.  1. -1. -1.  1.  1. -1. -1. -1.  1.  1.  1.  1. -1.  1.  1.\n",
      "  1.  1. -1. -1.  1.  1.  1. -1. -1. -1. -1.  1. -1.  1.  1. -1.  1.  1.\n",
      "  1.  1.  1. -1. -1. -1. -1.  1. -1. -1.  1.  1.  1.  1.  1.  1. -1.  1.\n",
      "  1.  1. -1.  1. -1. -1. -1.  1. -1. -1. -1.  1.  1. -1. -1.  1. -1.  1.\n",
      " -1. -1. -1.  1.  1.  1. -1.  1. -1.  1. -1.  1. -1.  1. -1.  1.  1. -1.\n",
      " -1. -1.  1. -1. -1. -1.  1. -1. -1. -1. -1. -1. -1.  1.  1.  1. -1. -1.\n",
      " -1. -1.  1. -1.  1.  1.  1.  1. -1.  1.  1. -1. -1. -1. -1. -1.  1.  1.\n",
      " -1. -1. -1. -1.  1. -1. -1. -1. -1.  1.  1.  1. -1.  1. -1.  1. -1.  1.\n",
      " -1.  1.  1.  1. -1. -1. -1.  1.  1.  1. -1. -1.  1.  1. -1.  1. -1. -1.\n",
      " -1. -1. -1.  1.  1. -1. -1. -1. -1. -1.  1. -1. -1. -1. -1.  1. -1. -1.\n",
      " -1. -1.  1.  1.  1.  1.  1.  1.  1. -1.  1.  1. -1.  1. -1. -1.  1.  1.\n",
      "  1. -1.  1.  1. -1. -1. -1. -1.  1.  1.  1.  1.  1.  1.  1. -1.  1.  1.\n",
      " -1. -1. -1. -1. -1. -1. -1. -1. -1. -1.  1.  1.  1. -1. -1. -1.  1. -1.\n",
      " -1. -1. -1. -1. -1. -1.  1. -1. -1.  1. -1. -1.  1.  1.  1. -1. -1.  1.\n",
      "  1.  1. -1.  1. -1. -1.  1.  1. -1. -1.  1.  1.  1.  1. -1.  1.  1. -1.\n",
      "  1. -1. -1. -1. -1. -1. -1. -1.]\n"
     ]
    },
    {
     "data": {
      "text/plain": [
       "0.5458515283842795"
      ]
     },
     "execution_count": 12,
     "metadata": {},
     "output_type": "execute_result"
    }
   ],
   "source": [
    "ovo_tsvm = OvR_LGBTSVM(d1=0.1, d2=0.1, d3=0.1, d4=0.1)\n",
    "\n",
    "# Huấn luyện mô hình\n",
    "ovo_tsvm.fit(X_train, y_train)\n",
    "y_pred = ovo_tsvm.predict(X_test)\n",
    "print(y_test)\n",
    "# Đánh giá độ chính xác\n",
    "accuracy = ovo_tsvm.score(X_test, y_test)\n",
    "\n",
    "accuracy"
   ]
  }
 ],
 "metadata": {
  "kernelspec": {
   "display_name": "base",
   "language": "python",
   "name": "python3"
  },
  "language_info": {
   "codemirror_mode": {
    "name": "ipython",
    "version": 3
   },
   "file_extension": ".py",
   "mimetype": "text/x-python",
   "name": "python",
   "nbconvert_exporter": "python",
   "pygments_lexer": "ipython3",
   "version": "3.11.7"
  }
 },
 "nbformat": 4,
 "nbformat_minor": 5
}
