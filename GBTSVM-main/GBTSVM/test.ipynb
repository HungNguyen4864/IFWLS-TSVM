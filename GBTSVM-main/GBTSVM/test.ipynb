{
 "cells": [
  {
   "cell_type": "code",
   "execution_count": 1,
   "metadata": {},
   "outputs": [
    {
     "name": "stdout",
     "output_type": "stream",
     "text": [
      "chess_krvkp.csv\n",
      "[[-0.354555 -0.275152 -0.197483 ...  0.602317 -0.572443  1.      ]\n",
      " [-0.354555 -0.275152 -0.197483 ...  0.602317 -0.572443  1.      ]\n",
      " [-0.354555 -0.275152 -0.197483 ...  0.602317 -0.572443  1.      ]\n",
      " ...\n",
      " [ 2.81956  -0.275152 -0.197483 ... -1.65973  -0.572443  0.      ]\n",
      " [ 2.81956  -0.275152  5.06215  ... -1.65973  -0.572443  0.      ]\n",
      " [ 2.81956  -0.275152  5.06215  ... -1.65973  -0.572443  0.      ]]\n",
      "84.46298227320125\n",
      "[-1 -1 -1 -1 -1 -1  1  1 -1 -1 -1 -1  1  1  1 -1 -1 -1  1  1  1  1  1  1\n",
      "  1 -1  1 -1  1 -1 -1  1 -1 -1 -1  1  1  1 -1  1 -1 -1  1  1 -1 -1 -1 -1\n",
      " -1 -1  1  1 -1 -1  1  1 -1 -1 -1 -1  1  1  1 -1 -1 -1 -1 -1 -1  1 -1 -1\n",
      "  1  1 -1 -1  1  1  1  1 -1  1  1  1 -1  1  1  1  1  1  1  1 -1  1 -1 -1\n",
      "  1  1 -1  1  1  1 -1  1  1 -1 -1 -1 -1  1  1  1  1  1  1  1 -1 -1 -1 -1\n",
      "  1 -1  1  1  1 -1  1 -1  1 -1  1  1 -1 -1  1  1 -1 -1  1  1 -1]\n"
     ]
    }
   ],
   "source": [
    "import os\n",
    "import numpy as np\n",
    "from GBTSVM import GBTSVM\n",
    "from gen_ball import gen_balls\n",
    "\n",
    "directory = r\"D:/LGBTSVM_MCD/GBTSVM-main/GBTSVM/Data/\"\n",
    "file_list = os.listdir(directory)\n",
    "\n",
    "for file_name in file_list:\n",
    "    if file_name.endswith(\".csv\"):\n",
    "        file_path = os.path.join(directory, file_name)\n",
    "    \n",
    "        print(file_name)\n",
    "        file_data = np.loadtxt(file_path, delimiter=',')\n",
    "    \n",
    "        m, n = file_data.shape\n",
    "        print(file_data)\n",
    "        for i in range(m):\n",
    "            if file_data[i, n-1] == 0:\n",
    "                file_data[i, n-1] = -1\n",
    "        \n",
    "        np.random.seed(0)\n",
    "        indices = np.random.permutation(m)\n",
    "        file_data = file_data[indices]\n",
    "        A_train=file_data[0:int(m*(1-0.30))]\n",
    "        A_test=file_data[int(m * (1-0.30)):]\n",
    "    \n",
    "        pur = 1 - (0.015 * 5)                      \n",
    "        num = 4\n",
    "        c1=0.00001\n",
    "        c2=0.00001\n",
    "                    \n",
    "        A_train = gen_balls(A_train, pur=pur, delbals=num)\n",
    "    \n",
    "        Radius=[]\n",
    "        for i in A_train:\n",
    "            Radius.append(i[1])\n",
    "        Center=[]\n",
    "        for ii in A_train:\n",
    "            Center.append(ii[0])\n",
    "        Label=[]\n",
    "        for iii in A_train:\n",
    "            Label.append(iii[-1])\n",
    "        Radius=np.array(Radius)\n",
    "        Center=np.array(Center)\n",
    "        Label=np.array(Label)\n",
    "        Z_train=np.hstack((Center,Radius.reshape(Radius.shape[0], 1)))\n",
    "        Lab=Label.reshape(Label.shape[0], 1)\n",
    "        A_train=np.hstack((Z_train,Lab))\n",
    "\n",
    "        Test_accuracy, Test_time = GBTSVM(A_train, A_test, c1, c2)\n",
    "        print(Test_accuracy)\n",
    "        print(Label)\n"
   ]
  }
 ],
 "metadata": {
  "kernelspec": {
   "display_name": "base",
   "language": "python",
   "name": "python3"
  },
  "language_info": {
   "codemirror_mode": {
    "name": "ipython",
    "version": 3
   },
   "file_extension": ".py",
   "mimetype": "text/x-python",
   "name": "python",
   "nbconvert_exporter": "python",
   "pygments_lexer": "ipython3",
   "version": "3.11.7"
  }
 },
 "nbformat": 4,
 "nbformat_minor": 2
}
