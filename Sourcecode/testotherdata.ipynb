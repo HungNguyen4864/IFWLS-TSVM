{
 "cells": [
  {
   "cell_type": "code",
   "execution_count": 2,
   "id": "edaabb55",
   "metadata": {},
   "outputs": [],
   "source": [
    "import pandas as pd\n",
    "import numpy as np\n",
    "from sklearn.preprocessing import StandardScaler, MinMaxScaler, LabelEncoder, OrdinalEncoder, Binarizer\n",
    "from imblearn.over_sampling import SMOTENC, SMOTEN, SMOTE\n",
    "from sklearn.model_selection import train_test_split, cross_val_score, GridSearchCV \n",
    "from gen_ball_mix import gen_balls\n",
    "from classGBTSVM import OvO_GBTSVM , MultiLabelGBTSVM, GBTSVM, OVR_GBTSVM\n",
    "from classLGBTSVM import OvO_LGBTSVM, OvR_LGBTSVM, LGBTSVM\n",
    "from ucimlrepo import fetch_ucirepo \n",
    "from scipy.stats import zscore"
   ]
  },
  {
   "cell_type": "code",
   "execution_count": 18,
   "id": "91508f25",
   "metadata": {},
   "outputs": [],
   "source": [
    "def evaluate_base_model(model_class, train_data, test_data, *params):\n",
    "    model = model_class(*params)\n",
    "    model.fit(train_data)\n",
    "    y_pred = model.predict(test_data)\n",
    "    accuracy = model.score(test_data)\n",
    "    return accuracy"
   ]
  },
  {
   "cell_type": "code",
   "execution_count": 19,
   "id": "86d35dc5",
   "metadata": {},
   "outputs": [],
   "source": [
    "def evaluate_model(model_class, X_train, y_train, X_test, y_test, *params):\n",
    "    model = model_class(*params)\n",
    "    model.fit(X_train, y_train)\n",
    "    y_pred = model.predict(X_test)\n",
    "    accuracy = model.score(X_test, y_test)\n",
    "    return accuracy"
   ]
  },
  {
   "cell_type": "markdown",
   "id": "c03cca03",
   "metadata": {},
   "source": [
    "## Breast Cancer"
   ]
  },
  {
   "cell_type": "code",
   "execution_count": 4,
   "id": "b79cbed0",
   "metadata": {},
   "outputs": [],
   "source": [
    "breast_cancer = fetch_ucirepo(id=17)           \n",
    "X = breast_cancer.data.features                 \n",
    "y = breast_cancer.data.targets.squeeze()        \n",
    "\n",
    "df = pd.concat([X, y], axis=1)"
   ]
  },
  {
   "cell_type": "code",
   "execution_count": 5,
   "id": "dbd242ad",
   "metadata": {},
   "outputs": [],
   "source": [
    "breast_cancer = fetch_ucirepo(id=17)           \n",
    "X = breast_cancer.data.features                 \n",
    "y = breast_cancer.data.targets.squeeze()        \n",
    "\n",
    "df = pd.concat([X, y], axis=1)                  \n",
    "target_col = y.name\n",
    "\n",
    "enc_target = LabelEncoder()\n",
    "df[target_col] = enc_target.fit_transform(df[target_col]).astype(np.float64)\n",
    "\n",
    "df_decile = df.copy()\n",
    "for col in X.columns:                         \n",
    "    df_decile[col] = pd.qcut(\n",
    "        df_decile[col],\n",
    "        q=10,\n",
    "        labels=list(range(10)),\n",
    "        duplicates=\"drop\"\n",
    "    )\n",
    "\n",
    "df_mix = pd.concat(\n",
    "    [X,                         \n",
    "     df_decile.add_suffix(\"_d\")\n",
    "    ],\n",
    "    axis=1\n",
    ")\n",
    "y_mix = df[target_col]\n",
    "\n",
    "n_num = X.shape[1]               \n",
    "cat_idx = list(range(n_num, 2*n_num))     \n",
    "\n",
    "smote = SMOTENC(\n",
    "    categorical_features=cat_idx,\n",
    "    random_state=42,\n",
    "    sampling_strategy=\"auto\"        # cân bằng hoàn toàn\n",
    ")\n",
    "X_res, y_res = smote.fit_resample(df_mix, y_mix)\n",
    "\n",
    "df_balanced = pd.DataFrame(X_res, columns=df_mix.columns)\n",
    "df_balanced[target_col] = y_res.reset_index(drop=True)\n"
   ]
  },
  {
   "cell_type": "code",
   "execution_count": 6,
   "id": "02c1e429",
   "metadata": {},
   "outputs": [],
   "source": [
    "num_cols = X.columns.tolist()                \n",
    "extra_label_col = f\"{target_col}_d\"          \n",
    "cat_cols = [c for c in df_balanced.columns   \n",
    "            if c.endswith(\"_d\") and c != extra_label_col]\n",
    "df_cat_only = df_balanced[cat_cols + [target_col]].copy()\n"
   ]
  },
  {
   "cell_type": "code",
   "execution_count": 7,
   "id": "a47b181b",
   "metadata": {},
   "outputs": [],
   "source": [
    "data = df_cat_only.to_numpy(dtype=np.float64)\n",
    "m,n = data.shape"
   ]
  },
  {
   "cell_type": "code",
   "execution_count": 8,
   "id": "04384c03",
   "metadata": {},
   "outputs": [],
   "source": [
    "scaler = MinMaxScaler(feature_range=(-1, 1))\n",
    "data[:, :-1] = scaler.fit_transform(data[:, :-1])"
   ]
  },
  {
   "cell_type": "code",
   "execution_count": 9,
   "id": "e4f8a451",
   "metadata": {},
   "outputs": [],
   "source": [
    "np.random.seed(0)\n",
    "indices = np.random.permutation(m)\n",
    "data = data[indices]\n",
    "A_train=data[0:int(m*(1-0.20))]\n",
    "A_test=data[int(m * (1-0.20)):]"
   ]
  },
  {
   "cell_type": "code",
   "execution_count": 10,
   "id": "b4254d75",
   "metadata": {},
   "outputs": [],
   "source": [
    "pur = 1 - (0.015 * 5)                      \n",
    "num = 4\n",
    "A_train = gen_balls(A_train, pur=pur, delbals=num)\n",
    "\n",
    "Radius=[]\n",
    "for i in A_train:\n",
    "    Radius.append(i[1])\n",
    "Center=[]\n",
    "for ii in A_train:\n",
    "    Center.append(ii[0])\n",
    "Label=[]\n",
    "for iii in A_train:\n",
    "    Label.append(iii[-1])\n",
    "Radius=np.array(Radius)\n",
    "Center=np.array(Center)\n",
    "Label=np.array(Label)\n",
    "Z_train=np.hstack((Center,Radius.reshape(Radius.shape[0], 1)))\n",
    "Lab=Label.reshape(Label.shape[0], 1)\n",
    "A_train=np.hstack((Z_train,Lab))"
   ]
  },
  {
   "cell_type": "code",
   "execution_count": 11,
   "id": "f4738fee",
   "metadata": {},
   "outputs": [],
   "source": [
    "X_train = A_train[:,:-1]\n",
    "X_test = A_test[:,:-1]\n",
    "y_train = A_train[:,-1]\n",
    "y_test = A_test[:,-1]"
   ]
  },
  {
   "cell_type": "code",
   "execution_count": 12,
   "id": "f1924eef",
   "metadata": {},
   "outputs": [],
   "source": [
    "accuracy_gbtsvm = evaluate_base_model(GBTSVM, A_train, A_test, 0.1, 0.1, 0.05, 0.05)\n",
    "accuracy_lgbtsvm = evaluate_base_model(LGBTSVM, A_train, A_test, 0.1, 0.1, 0.1, 0.1)\n",
    "accuracy_ovo_gbtsvm = evaluate_model(OvO_GBTSVM, X_train, y_train, X_test, y_test, 0.1, 0.1, 0.05, 0.05)\n",
    "accuracy_ovr_gbtsvm = evaluate_model(OVR_GBTSVM, X_train, y_train, X_test, y_test, 0.1, 0.1, 0.05, 0.05)\n",
    "accuracy_multi_gbtsvm = evaluate_model(MultiLabelGBTSVM, X_train, y_train, X_test, y_test, 0.1, 0.1, 0.05, 0.05)\n",
    "accuracy_ovo_lgbtsvm = evaluate_base_model(OvO_LGBTSVM, A_train, A_test, 0.1, 0.1, 0.1, 0.1)\n",
    "accuracy_ovr_lgbtsvm = evaluate_base_model(OvR_LGBTSVM, A_train, A_test, 0.1, 0.1, 0.1, 0.1)"
   ]
  },
  {
   "cell_type": "code",
   "execution_count": 13,
   "id": "fb1460fe",
   "metadata": {},
   "outputs": [
    {
     "name": "stdout",
     "output_type": "stream",
     "text": [
      "Accuracy of GBTSVM: 53.84615384615385\n",
      "Accuracy of LGBTSVM: 34.26573426573427\n",
      "Accuracy of OvO_GBTSVM: 97.9020979020979\n",
      "Accuracy of OVR_GBTSVM: 97.9020979020979\n",
      "Accuracy of MultiLabelGBTSVM: 97.9020979020979\n",
      "Accuracy of OvO_LGBTSVM: 72.72727272727273\n",
      "Accuracy of OvR_LGBTSVM: 72.72727272727273\n"
     ]
    }
   ],
   "source": [
    "print(f\"Accuracy of GBTSVM: {accuracy_gbtsvm}\")\n",
    "print(f\"Accuracy of LGBTSVM: {accuracy_lgbtsvm}\")\n",
    "print(f\"Accuracy of OvO_GBTSVM: {accuracy_ovo_gbtsvm}\")\n",
    "print(f\"Accuracy of OVR_GBTSVM: {accuracy_ovr_gbtsvm}\")\n",
    "print(f\"Accuracy of MultiLabelGBTSVM: {accuracy_multi_gbtsvm}\")\n",
    "print(f\"Accuracy of OvO_LGBTSVM: {accuracy_ovo_lgbtsvm}\")\n",
    "print(f\"Accuracy of OvR_LGBTSVM: {accuracy_ovr_lgbtsvm}\")"
   ]
  },
  {
   "cell_type": "markdown",
   "id": "7d070ba8",
   "metadata": {},
   "source": [
    "## Balance"
   ]
  },
  {
   "cell_type": "code",
   "execution_count": 9,
   "id": "4ae37415",
   "metadata": {},
   "outputs": [],
   "source": [
    "balance_scale = fetch_ucirepo(id=12) \n",
    "X = balance_scale.data.features \n",
    "y = balance_scale.data.targets.squeeze()        "
   ]
  },
  {
   "cell_type": "code",
   "execution_count": 10,
   "id": "c090e7a3",
   "metadata": {},
   "outputs": [],
   "source": [
    "smote = SMOTE(random_state=42)\n",
    "X_res, y_res = smote.fit_resample(X, y)"
   ]
  },
  {
   "cell_type": "code",
   "execution_count": 11,
   "id": "4e580185",
   "metadata": {},
   "outputs": [],
   "source": [
    "df = pd.concat([X_res, y_res], axis=1)\n",
    "target_col = y.name\n",
    "enc_target = LabelEncoder()\n",
    "df[target_col] = enc_target.fit_transform(df[target_col]).astype(np.float64)"
   ]
  },
  {
   "cell_type": "code",
   "execution_count": 12,
   "id": "d9b43593",
   "metadata": {},
   "outputs": [],
   "source": [
    "data = df.to_numpy(dtype=np.float64)\n",
    "m,n = data.shape"
   ]
  },
  {
   "cell_type": "code",
   "execution_count": 13,
   "id": "bcee2088",
   "metadata": {},
   "outputs": [],
   "source": [
    "scaler = MinMaxScaler(feature_range=(-1, 1))\n",
    "data[:, :-1] = scaler.fit_transform(data[:, :-1])"
   ]
  },
  {
   "cell_type": "code",
   "execution_count": 14,
   "id": "af114e37",
   "metadata": {},
   "outputs": [],
   "source": [
    "np.random.seed(0)\n",
    "indices = np.random.permutation(m)\n",
    "data = data[indices]\n",
    "A_train=data[0:int(m*(1-0.20))]\n",
    "A_test=data[int(m * (1-0.20)):]"
   ]
  },
  {
   "cell_type": "code",
   "execution_count": 15,
   "id": "134a5aac",
   "metadata": {},
   "outputs": [],
   "source": [
    "pur = 1 - (0.015 * 5)                      \n",
    "num = 2\n",
    "A_train = gen_balls(A_train, pur=pur, delbals=num)\n",
    "\n",
    "Radius=[]\n",
    "for i in A_train:\n",
    "    Radius.append(i[1])\n",
    "Center=[]\n",
    "for ii in A_train:\n",
    "    Center.append(ii[0])\n",
    "Label=[]\n",
    "for iii in A_train:\n",
    "    Label.append(iii[-1])\n",
    "Radius=np.array(Radius)\n",
    "Center=np.array(Center)\n",
    "Label=np.array(Label)\n",
    "Z_train=np.hstack((Center,Radius.reshape(Radius.shape[0], 1)))\n",
    "Lab=Label.reshape(Label.shape[0], 1)\n",
    "A_train=np.hstack((Z_train,Lab))"
   ]
  },
  {
   "cell_type": "code",
   "execution_count": 16,
   "id": "1bacede9",
   "metadata": {},
   "outputs": [],
   "source": [
    "X_train = A_train[:,:-1]\n",
    "X_test = A_test[:,:-1]\n",
    "y_train = A_train[:,-1]\n",
    "y_test = A_test[:,-1]"
   ]
  },
  {
   "cell_type": "code",
   "execution_count": 20,
   "id": "c743d0e7",
   "metadata": {},
   "outputs": [],
   "source": [
    "accuracy_gbtsvm = evaluate_base_model(GBTSVM, A_train, A_test, 0.1, 0.1, 0.05, 0.05)\n",
    "accuracy_lgbtsvm = evaluate_base_model(LGBTSVM, A_train, A_test, 0.1, 0.1, 0.1, 0.1)\n",
    "accuracy_ovo_gbtsvm = evaluate_model(OvO_GBTSVM, X_train, y_train, X_test, y_test, 0.1, 0.1, 0.05, 0.05)\n",
    "accuracy_ovr_gbtsvm = evaluate_model(OVR_GBTSVM, X_train, y_train, X_test, y_test, 0.1, 0.1, 0.05, 0.05)\n",
    "accuracy_multi_gbtsvm = evaluate_model(MultiLabelGBTSVM, X_train, y_train, X_test, y_test, 0.1, 0.1, 0.05, 0.05)\n",
    "accuracy_ovo_lgbtsvm = evaluate_base_model(OvO_LGBTSVM, A_train, A_test, 0.1, 0.1, 0.1, 0.1)"
   ]
  },
  {
   "cell_type": "code",
   "execution_count": 21,
   "id": "ec0c7874",
   "metadata": {},
   "outputs": [
    {
     "name": "stdout",
     "output_type": "stream",
     "text": [
      "Accuracy of GBTSVM: 14.450867052023122\n",
      "Accuracy of LGBTSVM: 32.947976878612714\n",
      "Accuracy of OvO_GBTSVM: 84.97109826589595\n",
      "Accuracy of OVR_GBTSVM: 18.497109826589593\n",
      "Accuracy of MultiLabelGBTSVM: 47.97687861271676\n",
      "Accuracy of OvO_LGBTSVM: 73.98843930635837\n"
     ]
    }
   ],
   "source": [
    "print(f\"Accuracy of GBTSVM: {accuracy_gbtsvm}\")\n",
    "print(f\"Accuracy of LGBTSVM: {accuracy_lgbtsvm}\")\n",
    "print(f\"Accuracy of OvO_GBTSVM: {accuracy_ovo_gbtsvm}\")\n",
    "print(f\"Accuracy of OVR_GBTSVM: {accuracy_ovr_gbtsvm}\")\n",
    "print(f\"Accuracy of MultiLabelGBTSVM: {accuracy_multi_gbtsvm}\")\n",
    "print(f\"Accuracy of OvO_LGBTSVM: {accuracy_ovo_lgbtsvm}\")"
   ]
  },
  {
   "cell_type": "markdown",
   "id": "38e52c6d",
   "metadata": {},
   "source": [
    "## Dermatology"
   ]
  },
  {
   "cell_type": "code",
   "execution_count": null,
   "id": "73b7e3e4",
   "metadata": {},
   "outputs": [],
   "source": [
    "dermatology = fetch_ucirepo(id=33) \n",
    "X = dermatology.data.features \n",
    "y = dermatology.data.targets.squeeze()"
   ]
  },
  {
   "cell_type": "code",
   "execution_count": null,
   "id": "369e0957",
   "metadata": {},
   "outputs": [],
   "source": [
    "X_df = pd.DataFrame(X)\n",
    "X_clean = X_df.dropna(subset=['age'])\n",
    "y_clean = y[X_clean.index]"
   ]
  },
  {
   "cell_type": "code",
   "execution_count": null,
   "id": "806cb314",
   "metadata": {},
   "outputs": [],
   "source": [
    "smote = SMOTE(random_state=42)\n",
    "X_res, y_res = smote.fit_resample(X_clean, y_clean)"
   ]
  },
  {
   "cell_type": "code",
   "execution_count": null,
   "id": "222a785d",
   "metadata": {},
   "outputs": [],
   "source": [
    "df = pd.concat([X_res, y_res], axis=1)\n",
    "data = df.to_numpy(dtype=np.float64)\n",
    "m,n = data.shape"
   ]
  },
  {
   "cell_type": "code",
   "execution_count": null,
   "id": "7dfb328c",
   "metadata": {},
   "outputs": [],
   "source": [
    "scaler = MinMaxScaler(feature_range=(-1, 1))\n",
    "data[:, :-1] = scaler.fit_transform(data[:, :-1])"
   ]
  },
  {
   "cell_type": "code",
   "execution_count": null,
   "id": "7a75e439",
   "metadata": {},
   "outputs": [],
   "source": [
    "np.random.seed(0)\n",
    "indices = np.random.permutation(m)\n",
    "data = data[indices]\n",
    "A_train=data[0:int(m*(1-0.20))]\n",
    "A_test=data[int(m * (1-0.20)):]"
   ]
  },
  {
   "cell_type": "code",
   "execution_count": null,
   "id": "47d24fc7",
   "metadata": {},
   "outputs": [],
   "source": [
    "pur = 1 - (0.015 * 5)                      \n",
    "num = 2\n",
    "A_train = gen_balls(A_train, pur=pur, delbals=num)\n",
    "\n",
    "Radius=[]\n",
    "for i in A_train:\n",
    "    Radius.append(i[1])\n",
    "Center=[]\n",
    "for ii in A_train:\n",
    "    Center.append(ii[0])\n",
    "Label=[]\n",
    "for iii in A_train:\n",
    "    Label.append(iii[-1])\n",
    "Radius=np.array(Radius)\n",
    "Center=np.array(Center)\n",
    "Label=np.array(Label)\n",
    "Z_train=np.hstack((Center,Radius.reshape(Radius.shape[0], 1)))\n",
    "Lab=Label.reshape(Label.shape[0], 1)\n",
    "A_train=np.hstack((Z_train,Lab))"
   ]
  },
  {
   "cell_type": "code",
   "execution_count": null,
   "id": "22697c4a",
   "metadata": {},
   "outputs": [],
   "source": [
    "X_train = A_train[:,:-1]\n",
    "X_test = A_test[:,:-1]\n",
    "y_train = A_train[:,-1]\n",
    "y_test = A_test[:,-1]"
   ]
  },
  {
   "cell_type": "code",
   "execution_count": null,
   "id": "b98471ba",
   "metadata": {},
   "outputs": [],
   "source": [
    "accuracy_gbtsvm = evaluate_base_model(GBTSVM, A_train, A_test, 0.1, 0.1, 0.05, 0.05)\n",
    "accuracy_lgbtsvm = evaluate_base_model(LGBTSVM, A_train, A_test, 0.1, 0.1, 0.1, 0.1)\n",
    "accuracy_ovo_gbtsvm = evaluate_model(OvO_GBTSVM, X_train, y_train, X_test, y_test, 0.1, 0.1, 0.05, 0.05)\n",
    "accuracy_ovr_gbtsvm = evaluate_model(OVR_GBTSVM, X_train, y_train, X_test, y_test, 0.1, 0.1, 0.05, 0.05)\n",
    "accuracy_multi_gbtsvm = evaluate_model(MultiLabelGBTSVM, X_train, y_train, X_test, y_test, 0.1, 0.1, 0.05, 0.05)\n",
    "accuracy_ovo_lgbtsvm = evaluate_model(OvO_LGBTSVM, X_train, y_train, X_test, y_test, 0.1, 0.1, 0.1, 0.1)"
   ]
  },
  {
   "cell_type": "code",
   "execution_count": null,
   "id": "7390d9fd",
   "metadata": {},
   "outputs": [],
   "source": [
    "print(f\"Accuracy of GBTSVM: {accuracy_gbtsvm}\")\n",
    "print(f\"Accuracy of LGBTSVM: {accuracy_lgbtsvm}\")\n",
    "print(f\"Accuracy of OvO_GBTSVM: {accuracy_ovo_gbtsvm}\")\n",
    "print(f\"Accuracy of OVR_GBTSVM: {accuracy_ovr_gbtsvm}\")\n",
    "print(f\"Accuracy of MultiLabelGBTSVM: {accuracy_multi_gbtsvm}\")\n",
    "print(f\"Accuracy of OvO_LGBTSVM: {accuracy_ovo_lgbtsvm}\")"
   ]
  },
  {
   "cell_type": "markdown",
   "id": "f5f61c35",
   "metadata": {},
   "source": [
    "## Ecoli"
   ]
  },
  {
   "cell_type": "code",
   "execution_count": null,
   "id": "c5811ce2",
   "metadata": {},
   "outputs": [],
   "source": [
    "ecoli = fetch_ucirepo(id=39) \n",
    "X = ecoli.data.features \n",
    "y = ecoli.data.targets.squeeze()"
   ]
  },
  {
   "cell_type": "code",
   "execution_count": null,
   "id": "392e0b3d",
   "metadata": {},
   "outputs": [],
   "source": [
    "smote = SMOTE(random_state=42, k_neighbors=1)\n",
    "X_res, y_res = smote.fit_resample(X, y)"
   ]
  },
  {
   "cell_type": "code",
   "execution_count": null,
   "id": "4a9c03d6",
   "metadata": {},
   "outputs": [],
   "source": [
    "df = pd.concat([X_res, y_res], axis=1)\n",
    "target_col = y.name\n",
    "enc_target = LabelEncoder()\n",
    "df[target_col] = enc_target.fit_transform(df[target_col]).astype(np.float64)"
   ]
  },
  {
   "cell_type": "code",
   "execution_count": null,
   "id": "199f5bac",
   "metadata": {},
   "outputs": [],
   "source": [
    "data = df.to_numpy(dtype=np.float64)\n",
    "m,n = data.shape"
   ]
  },
  {
   "cell_type": "code",
   "execution_count": null,
   "id": "0e0a3ca9",
   "metadata": {},
   "outputs": [],
   "source": [
    "scaler = MinMaxScaler(feature_range=(-1, 1))\n",
    "data[:, :-1] = scaler.fit_transform(data[:, :-1])"
   ]
  },
  {
   "cell_type": "code",
   "execution_count": null,
   "id": "24ed012f",
   "metadata": {},
   "outputs": [],
   "source": [
    "np.random.seed(0)\n",
    "indices = np.random.permutation(m)\n",
    "data = data[indices]\n",
    "A_train=data[0:int(m*(1-0.20))]\n",
    "A_test=data[int(m * (1-0.20)):]"
   ]
  },
  {
   "cell_type": "code",
   "execution_count": null,
   "id": "0a737b28",
   "metadata": {},
   "outputs": [],
   "source": [
    "pur = 1 - (0.015 * 5)                      \n",
    "num = 2\n",
    "A_train = gen_balls(A_train, pur=pur, delbals=num)\n",
    "\n",
    "Radius=[]\n",
    "for i in A_train:\n",
    "    Radius.append(i[1])\n",
    "Center=[]\n",
    "for ii in A_train:\n",
    "    Center.append(ii[0])\n",
    "Label=[]\n",
    "for iii in A_train:\n",
    "    Label.append(iii[-1])\n",
    "Radius=np.array(Radius)\n",
    "Center=np.array(Center)\n",
    "Label=np.array(Label)\n",
    "Z_train=np.hstack((Center,Radius.reshape(Radius.shape[0], 1)))\n",
    "Lab=Label.reshape(Label.shape[0], 1)\n",
    "A_train=np.hstack((Z_train,Lab))"
   ]
  },
  {
   "cell_type": "code",
   "execution_count": null,
   "id": "aee1b659",
   "metadata": {},
   "outputs": [],
   "source": [
    "X_train = A_train[:,:-1]\n",
    "X_test = A_test[:,:-1]\n",
    "y_train = A_train[:,-1]\n",
    "y_test = A_test[:,-1]"
   ]
  },
  {
   "cell_type": "code",
   "execution_count": null,
   "id": "eccc921a",
   "metadata": {},
   "outputs": [],
   "source": [
    "accuracy_gbtsvm = evaluate_base_model(GBTSVM, A_train, A_test, 0.1, 0.1, 0.05, 0.05)\n",
    "accuracy_lgbtsvm = evaluate_base_model(LGBTSVM, A_train, A_test, 0.1, 0.1, 0.1, 0.1)\n",
    "accuracy_ovo_gbtsvm = evaluate_model(OvO_GBTSVM, X_train, y_train, X_test, y_test, 0.1, 0.1, 0.05, 0.05)\n",
    "accuracy_ovr_gbtsvm = evaluate_model(OVR_GBTSVM, X_train, y_train, X_test, y_test, 0.1, 0.1, 0.05, 0.05)\n",
    "accuracy_multi_gbtsvm = evaluate_model(MultiLabelGBTSVM, X_train, y_train, X_test, y_test, 0.1, 0.1, 0.05, 0.05)\n",
    "accuracy_ovo_lgbtsvm = evaluate_model(LGBTSVM_OvO, X_train, y_train, X_test, y_test, 0.1, 0.1, 0.1, 0.1)"
   ]
  },
  {
   "cell_type": "code",
   "execution_count": null,
   "id": "12fb7a81",
   "metadata": {},
   "outputs": [],
   "source": [
    "print(f\"Accuracy of GBTSVM: {accuracy_gbtsvm}\")\n",
    "print(f\"Accuracy of LGBTSVM: {accuracy_lgbtsvm}\")\n",
    "print(f\"Accuracy of OvO_GBTSVM: {accuracy_ovo_gbtsvm}\")\n",
    "print(f\"Accuracy of OVR_GBTSVM: {accuracy_ovr_gbtsvm}\")\n",
    "print(f\"Accuracy of MultiLabelGBTSVM: {accuracy_multi_gbtsvm}\")\n",
    "print(f\"Accuracy of OvO_LGBTSVM: {accuracy_ovo_lgbtsvm}\")"
   ]
  },
  {
   "cell_type": "markdown",
   "id": "caa99ef5",
   "metadata": {},
   "source": [
    "## Glass"
   ]
  },
  {
   "cell_type": "code",
   "execution_count": 4,
   "id": "913232a4",
   "metadata": {},
   "outputs": [],
   "source": [
    "glass_identification = fetch_ucirepo(id=42) \n",
    "X = glass_identification.data.features \n",
    "y = glass_identification.data.targets.squeeze()"
   ]
  },
  {
   "cell_type": "code",
   "execution_count": 5,
   "id": "3c7bdc3d",
   "metadata": {},
   "outputs": [],
   "source": [
    "X_df = pd.DataFrame(X)\n",
    "columns = X_df.columns\n",
    "z_scores = np.abs(zscore(X_df[columns]))\n",
    "threshold = 3\n",
    "X_clean = X_df[(z_scores < threshold).all(axis=1)]\n",
    "y_clean = y[X_clean.index]"
   ]
  },
  {
   "cell_type": "code",
   "execution_count": 6,
   "id": "abcee485",
   "metadata": {},
   "outputs": [],
   "source": [
    "smote = SMOTE(random_state=42)\n",
    "X_res, y_res = smote.fit_resample(X_clean, y_clean)"
   ]
  },
  {
   "cell_type": "code",
   "execution_count": 7,
   "id": "b9d92f0e",
   "metadata": {},
   "outputs": [],
   "source": [
    "df = pd.concat([X_res, y_res], axis=1)\n",
    "data = df.to_numpy(dtype=np.float64)\n",
    "m,n = data.shape"
   ]
  },
  {
   "cell_type": "code",
   "execution_count": 8,
   "id": "dbb72015",
   "metadata": {},
   "outputs": [],
   "source": [
    "scaler = MinMaxScaler(feature_range=(-1, 1))\n",
    "data[:, :-1] = scaler.fit_transform(data[:, :-1])"
   ]
  },
  {
   "cell_type": "code",
   "execution_count": 9,
   "id": "f126e645",
   "metadata": {},
   "outputs": [],
   "source": [
    "np.random.seed(0)\n",
    "indices = np.random.permutation(m)\n",
    "data = data[indices]\n",
    "A_train=data[0:int(m*(1-0.20))]\n",
    "A_test=data[int(m * (1-0.20)):]"
   ]
  },
  {
   "cell_type": "code",
   "execution_count": 10,
   "id": "d37978cf",
   "metadata": {},
   "outputs": [],
   "source": [
    "pur = 1 - (0.015 * 5)                      \n",
    "num = 2\n",
    "A_train = gen_balls(A_train, pur=pur, delbals=num)\n",
    "\n",
    "Radius=[]\n",
    "for i in A_train:\n",
    "    Radius.append(i[1])\n",
    "Center=[]\n",
    "for ii in A_train:\n",
    "    Center.append(ii[0])\n",
    "Label=[]\n",
    "for iii in A_train:\n",
    "    Label.append(iii[-1])\n",
    "Radius=np.array(Radius)\n",
    "Center=np.array(Center)\n",
    "Label=np.array(Label)\n",
    "Z_train=np.hstack((Center,Radius.reshape(Radius.shape[0], 1)))\n",
    "Lab=Label.reshape(Label.shape[0], 1)\n",
    "A_train=np.hstack((Z_train,Lab))"
   ]
  },
  {
   "cell_type": "code",
   "execution_count": 11,
   "id": "e2b09b48",
   "metadata": {},
   "outputs": [],
   "source": [
    "X_train = A_train[:,:-1]\n",
    "X_test = A_test[:,:-1]\n",
    "y_train = A_train[:,-1]\n",
    "y_test = A_test[:,-1]"
   ]
  },
  {
   "cell_type": "code",
   "execution_count": 13,
   "id": "a4c38fba",
   "metadata": {},
   "outputs": [],
   "source": [
    "accuracy_gbtsvm = evaluate_base_model(GBTSVM, A_train, A_test, 0.1, 0.1, 0.05, 0.05)\n",
    "accuracy_lgbtsvm = evaluate_base_model(LGBTSVM, A_train, A_test, 0.1, 0.1, 0.1, 0.1)\n",
    "accuracy_ovo_gbtsvm = evaluate_model(OvO_GBTSVM, X_train, y_train, X_test, y_test, 0.1, 0.1, 0.05, 0.05)\n",
    "accuracy_ovr_gbtsvm = evaluate_model(OVR_GBTSVM, X_train, y_train, X_test, y_test, 0.1, 0.1, 0.05, 0.05)\n",
    "accuracy_multi_gbtsvm = evaluate_model(MultiLabelGBTSVM, X_train, y_train, X_test, y_test, 0.1, 0.1, 0.05, 0.05)\n",
    "accuracy_ovo_lgbtsvm = evaluate_base_model(OvO_LGBTSVM, A_train, A_test, 0.1, 0.1, 0.1, 0.1)"
   ]
  },
  {
   "cell_type": "code",
   "execution_count": 14,
   "id": "75f8c581",
   "metadata": {},
   "outputs": [
    {
     "name": "stdout",
     "output_type": "stream",
     "text": [
      "Accuracy of GBTSVM: 2.380952380952381\n",
      "Accuracy of LGBTSVM: 0.0\n",
      "Accuracy of OvO_GBTSVM: 80.95238095238095\n",
      "Accuracy of OVR_GBTSVM: 44.047619047619044\n",
      "Accuracy of MultiLabelGBTSVM: 55.952380952380956\n",
      "Accuracy of OvO_LGBTSVM: 60.71428571428571\n"
     ]
    }
   ],
   "source": [
    "print(f\"Accuracy of GBTSVM: {accuracy_gbtsvm}\")\n",
    "print(f\"Accuracy of LGBTSVM: {accuracy_lgbtsvm}\")\n",
    "print(f\"Accuracy of OvO_GBTSVM: {accuracy_ovo_gbtsvm}\")\n",
    "print(f\"Accuracy of OVR_GBTSVM: {accuracy_ovr_gbtsvm}\")\n",
    "print(f\"Accuracy of MultiLabelGBTSVM: {accuracy_multi_gbtsvm}\")\n",
    "print(f\"Accuracy of OvO_LGBTSVM: {accuracy_ovo_lgbtsvm}\")"
   ]
  },
  {
   "cell_type": "markdown",
   "id": "c4292588",
   "metadata": {},
   "source": [
    "## Hayes-roth"
   ]
  },
  {
   "cell_type": "code",
   "execution_count": 6,
   "id": "3f43ee7a",
   "metadata": {},
   "outputs": [],
   "source": [
    "hayes_roth = fetch_ucirepo(id=44) \n",
    "X = hayes_roth.data.features \n",
    "y = hayes_roth.data.targets.squeeze()"
   ]
  },
  {
   "cell_type": "code",
   "execution_count": 7,
   "id": "d63de538",
   "metadata": {},
   "outputs": [],
   "source": [
    "df = pd.concat([X, y], axis=1)"
   ]
  },
  {
   "cell_type": "code",
   "execution_count": 8,
   "id": "58e23cf0",
   "metadata": {},
   "outputs": [],
   "source": [
    "Q1 = np.percentile(X, 25, axis=0)\n",
    "Q3 = np.percentile(X, 75, axis=0)\n",
    "IQR = Q3 - Q1\n",
    "mask_outlier = np.all((X >= Q1 - 1.5*IQR) & (X <= Q3 + 1.5*IQR), axis=1)\n",
    "\n",
    "X = X[mask_outlier]\n",
    "y = y[mask_outlier]\n",
    "\n",
    "# Loại bỏ NaN trong y\n",
    "mask_nan = ~np.isnan(y) if y.dtype.kind in ['f', 'i'] else (y != '') & (y != None)\n",
    "X = X[mask_nan]\n",
    "y = y[mask_nan]"
   ]
  },
  {
   "cell_type": "markdown",
   "id": "c4568375",
   "metadata": {},
   "source": [
    "## Image Segmentation"
   ]
  },
  {
   "cell_type": "code",
   "execution_count": null,
   "id": "f123d737",
   "metadata": {},
   "outputs": [],
   "source": [
    "image_segmentation = fetch_ucirepo(id=50) \n",
    "X = image_segmentation.data.features \n",
    "y = image_segmentation.data.targets.squeeze()"
   ]
  },
  {
   "cell_type": "code",
   "execution_count": null,
   "id": "f36b444c",
   "metadata": {},
   "outputs": [],
   "source": [
    "smote = SMOTE(random_state=42)\n",
    "X_res, y_res = smote.fit_resample(X, y)"
   ]
  },
  {
   "cell_type": "code",
   "execution_count": null,
   "id": "f038ddba",
   "metadata": {},
   "outputs": [],
   "source": [
    "df = pd.concat([X_res, y_res], axis=1)\n",
    "target_col = y.name\n",
    "enc_target = LabelEncoder()\n",
    "df[target_col] = enc_target.fit_transform(df[target_col]).astype(np.float64)"
   ]
  },
  {
   "cell_type": "code",
   "execution_count": null,
   "id": "db0e730f",
   "metadata": {},
   "outputs": [],
   "source": [
    "data = df.to_numpy(dtype=np.float64)\n",
    "m,n = data.shape"
   ]
  },
  {
   "cell_type": "code",
   "execution_count": null,
   "id": "c4e819ab",
   "metadata": {},
   "outputs": [],
   "source": [
    "scaler = MinMaxScaler(feature_range=(-1, 1))\n",
    "data[:, :-1] = scaler.fit_transform(data[:, :-1])"
   ]
  },
  {
   "cell_type": "code",
   "execution_count": null,
   "id": "5d2decd8",
   "metadata": {},
   "outputs": [],
   "source": [
    "np.random.seed(0)\n",
    "indices = np.random.permutation(m)\n",
    "data = data[indices]\n",
    "A_train=data[0:int(m*(1-0.20))]\n",
    "A_test=data[int(m * (1-0.20)):]"
   ]
  },
  {
   "cell_type": "code",
   "execution_count": null,
   "id": "35e95d8c",
   "metadata": {},
   "outputs": [],
   "source": [
    "pur = 1 - (0.015 * 5)                      \n",
    "num = 2\n",
    "A_train = gen_balls(A_train, pur=pur, delbals=num)\n",
    "\n",
    "Radius=[]\n",
    "for i in A_train:\n",
    "    Radius.append(i[1])\n",
    "Center=[]\n",
    "for ii in A_train:\n",
    "    Center.append(ii[0])\n",
    "Label=[]\n",
    "for iii in A_train:\n",
    "    Label.append(iii[-1])\n",
    "Radius=np.array(Radius)\n",
    "Center=np.array(Center)\n",
    "Label=np.array(Label)\n",
    "Z_train=np.hstack((Center,Radius.reshape(Radius.shape[0], 1)))\n",
    "Lab=Label.reshape(Label.shape[0], 1)\n",
    "A_train=np.hstack((Z_train,Lab))"
   ]
  },
  {
   "cell_type": "code",
   "execution_count": null,
   "id": "e3df1859",
   "metadata": {},
   "outputs": [],
   "source": [
    "X_train = A_train[:,:-1]\n",
    "X_test = A_test[:,:-1]\n",
    "y_train = A_train[:,-1]\n",
    "y_test = A_test[:,-1]"
   ]
  },
  {
   "cell_type": "code",
   "execution_count": null,
   "id": "949f3ba0",
   "metadata": {},
   "outputs": [],
   "source": [
    "accuracy_gbtsvm = evaluate_base_model(GBTSVM, A_train, A_test, 0.1, 0.1, 0.05, 0.05)\n",
    "accuracy_lgbtsvm = evaluate_base_model(LGBTSVM, A_train, A_test, 0.1, 0.1, 0.1, 0.1)\n",
    "accuracy_ovo_gbtsvm = evaluate_model(OvO_GBTSVM, X_train, y_train, X_test, y_test, 0.1, 0.1, 0.05, 0.05)\n",
    "accuracy_ovr_gbtsvm = evaluate_model(OVR_GBTSVM, X_train, y_train, X_test, y_test, 0.1, 0.1, 0.05, 0.05)\n",
    "accuracy_multi_gbtsvm = evaluate_model(MultiLabelGBTSVM, X_train, y_train, X_test, y_test, 0.1, 0.1, 0.05, 0.05)\n",
    "accuracy_ovo_lgbtsvm = evaluate_model(OvO_LGBTSVM, X_train, y_train, X_test, y_test, 0.1, 0.1, 0.1, 0.1)"
   ]
  },
  {
   "cell_type": "code",
   "execution_count": null,
   "id": "4c36e130",
   "metadata": {},
   "outputs": [],
   "source": [
    "print(f\"Accuracy of GBTSVM: {accuracy_gbtsvm}\")\n",
    "print(f\"Accuracy of LGBTSVM: {accuracy_lgbtsvm}\")\n",
    "print(f\"Accuracy of OvO_GBTSVM: {accuracy_ovo_gbtsvm}\")\n",
    "print(f\"Accuracy of OVR_GBTSVM: {accuracy_ovr_gbtsvm}\")\n",
    "print(f\"Accuracy of MultiLabelGBTSVM: {accuracy_multi_gbtsvm}\")\n",
    "print(f\"Accuracy of OvO_LGBTSVM: {accuracy_ovo_lgbtsvm}\")"
   ]
  },
  {
   "cell_type": "markdown",
   "id": "f5562f82",
   "metadata": {},
   "source": [
    "## Iris"
   ]
  },
  {
   "cell_type": "code",
   "execution_count": 37,
   "id": "bfa6863d",
   "metadata": {},
   "outputs": [],
   "source": [
    "iris = fetch_ucirepo(id=53) \n",
    "X = iris.data.features \n",
    "y = iris.data.targets.squeeze()"
   ]
  },
  {
   "cell_type": "code",
   "execution_count": 38,
   "id": "acf44387",
   "metadata": {},
   "outputs": [],
   "source": [
    "df = pd.concat([X, y], axis=1)\n",
    "target_col = y.name\n",
    "enc_target = LabelEncoder()\n",
    "df[target_col] = enc_target.fit_transform(df[target_col]).astype(np.float64)"
   ]
  },
  {
   "cell_type": "code",
   "execution_count": null,
   "id": "ff5856cb",
   "metadata": {},
   "outputs": [],
   "source": [
    "# for col in X.columns:\n",
    "#     df[col+'_binned'] = pd.qcut(df[col], q=3, labels=list(range(3)), duplicates='drop')\n",
    "#     df.drop(columns=[col], inplace=True)"
   ]
  },
  {
   "cell_type": "code",
   "execution_count": 39,
   "id": "985dfbbc",
   "metadata": {},
   "outputs": [],
   "source": [
    "data = df.to_numpy(dtype=np.float64)\n",
    "m,n = data.shape"
   ]
  },
  {
   "cell_type": "code",
   "execution_count": 40,
   "id": "5cef6434",
   "metadata": {},
   "outputs": [],
   "source": [
    "scaler = MinMaxScaler(feature_range=(-1, 1))\n",
    "data[:, :-1] = scaler.fit_transform(data[:, :-1])"
   ]
  },
  {
   "cell_type": "code",
   "execution_count": 41,
   "id": "46b684e4",
   "metadata": {},
   "outputs": [],
   "source": [
    "np.random.seed(0)\n",
    "indices = np.random.permutation(m)\n",
    "data = data[indices]\n",
    "A_train=data[0:int(m*(1-0.20))]\n",
    "A_test=data[int(m * (1-0.20)):]"
   ]
  },
  {
   "cell_type": "code",
   "execution_count": 42,
   "id": "e7d76e55",
   "metadata": {},
   "outputs": [],
   "source": [
    "pur = 1 - (0.015 * 5)                      \n",
    "num = 2\n",
    "A_train = gen_balls(A_train, pur=pur, delbals=num)\n",
    "\n",
    "Radius=[]\n",
    "for i in A_train:\n",
    "    Radius.append(i[1])\n",
    "Center=[]\n",
    "for ii in A_train:\n",
    "    Center.append(ii[0])\n",
    "Label=[]\n",
    "for iii in A_train:\n",
    "    Label.append(iii[-1])\n",
    "Radius=np.array(Radius)\n",
    "Center=np.array(Center)\n",
    "Label=np.array(Label)\n",
    "Z_train=np.hstack((Center,Radius.reshape(Radius.shape[0], 1)))\n",
    "Lab=Label.reshape(Label.shape[0], 1)\n",
    "A_train=np.hstack((Z_train,Lab))"
   ]
  },
  {
   "cell_type": "code",
   "execution_count": 43,
   "id": "ea2fd20c",
   "metadata": {},
   "outputs": [],
   "source": [
    "X_train = A_train[:,:-1]\n",
    "X_test = A_test[:,:-1]\n",
    "y_train = A_train[:,-1]\n",
    "y_test = A_test[:,-1]"
   ]
  },
  {
   "cell_type": "code",
   "execution_count": 44,
   "id": "ddff5a90",
   "metadata": {},
   "outputs": [],
   "source": [
    "accuracy_gbtsvm = evaluate_base_model(GBTSVM, A_train, A_test, 0.1, 0.1, 0.05, 0.05)\n",
    "accuracy_lgbtsvm = evaluate_base_model(LGBTSVM, A_train, A_test, 0.1, 0.1, 0.1, 0.1)\n",
    "accuracy_ovo_gbtsvm = evaluate_model(OvO_GBTSVM, X_train, y_train, X_test, y_test, 0.1, 0.1, 0.05, 0.05)\n",
    "accuracy_ovr_gbtsvm = evaluate_model(OVR_GBTSVM, X_train, y_train, X_test, y_test, 0.1, 0.1, 0.05, 0.05)\n",
    "accuracy_multi_gbtsvm = evaluate_model(MultiLabelGBTSVM, X_train, y_train, X_test, y_test, 0.1, 0.1, 0.05, 0.05)\n",
    "accuracy_ovo_lgbtsvm = evaluate_base_model(OvO_LGBTSVM, A_train, A_test, 0.1, 0.1, 0.1, 0.1)"
   ]
  },
  {
   "cell_type": "code",
   "execution_count": 45,
   "id": "58b99a0a",
   "metadata": {},
   "outputs": [
    {
     "name": "stdout",
     "output_type": "stream",
     "text": [
      "Accuracy of GBTSVM: 36.666666666666664\n",
      "Accuracy of LGBTSVM: 0.0\n",
      "Accuracy of OvO_GBTSVM: 96.66666666666667\n",
      "Accuracy of OVR_GBTSVM: 73.33333333333333\n",
      "Accuracy of MultiLabelGBTSVM: 73.33333333333333\n",
      "Accuracy of OvO_LGBTSVM: 93.33333333333333\n"
     ]
    }
   ],
   "source": [
    "print(f\"Accuracy of GBTSVM: {accuracy_gbtsvm}\")\n",
    "print(f\"Accuracy of LGBTSVM: {accuracy_lgbtsvm}\")\n",
    "print(f\"Accuracy of OvO_GBTSVM: {accuracy_ovo_gbtsvm}\")\n",
    "print(f\"Accuracy of OVR_GBTSVM: {accuracy_ovr_gbtsvm}\")\n",
    "print(f\"Accuracy of MultiLabelGBTSVM: {accuracy_multi_gbtsvm}\")\n",
    "print(f\"Accuracy of OvO_LGBTSVM: {accuracy_ovo_lgbtsvm}\")"
   ]
  },
  {
   "cell_type": "markdown",
   "id": "830ea21a",
   "metadata": {},
   "source": [
    "## Teaching Evaluation"
   ]
  },
  {
   "cell_type": "code",
   "execution_count": 122,
   "id": "f69fd675",
   "metadata": {},
   "outputs": [],
   "source": [
    "import pandas as pd\n",
    "tae_data_path = 'Dataset/tae/tae.data'\n",
    "df = pd.read_csv(tae_data_path, header=None, sep=',', engine='python')\n",
    "num_columns_in_data = len(df.columns)\n",
    "column_names = [f\"X{i+1}\" for i in range(num_columns_in_data)]\n",
    "df.columns = column_names\n",
    "# X  = df.iloc[:,:-1]\n",
    "# y = df.iloc[:,-1]"
   ]
  },
  {
   "cell_type": "code",
   "execution_count": 123,
   "id": "c1fa31b8",
   "metadata": {},
   "outputs": [],
   "source": [
    "features = ['X2', 'X3', 'X5']\n",
    "quantiles = df[features].quantile([0.25, 0.75])\n",
    "Q1 = quantiles.loc[0.25]\n",
    "Q3 = quantiles.loc[0.75]\n",
    "df_cleaned = df[~((df[features] < (Q1 - 1.5*(Q3-Q1))) | \n",
    "                  (df[features] > (Q3 + 1.5*(Q3-Q1)))).any(axis=1)]"
   ]
  },
  {
   "cell_type": "code",
   "execution_count": 124,
   "id": "927b7685",
   "metadata": {},
   "outputs": [],
   "source": [
    "X = df_cleaned.iloc[:,:-1]\n",
    "y = df_cleaned.iloc[:,-1]"
   ]
  },
  {
   "cell_type": "code",
   "execution_count": 125,
   "id": "a0dff308",
   "metadata": {},
   "outputs": [],
   "source": [
    "smote = SMOTE(random_state=42)\n",
    "X_res, y_res = smote.fit_resample(X, y)\n",
    "df = pd.concat([X_res, y_res], axis=1)"
   ]
  },
  {
   "cell_type": "code",
   "execution_count": 126,
   "id": "8a096267",
   "metadata": {},
   "outputs": [],
   "source": [
    "data = df.to_numpy(dtype=np.float64)\n",
    "m,n = data.shape"
   ]
  },
  {
   "cell_type": "code",
   "execution_count": 127,
   "id": "2ee5cb5e",
   "metadata": {},
   "outputs": [],
   "source": [
    "scaler = MinMaxScaler(feature_range=(-1, 1))\n",
    "data[:, :-1] = scaler.fit_transform(data[:, :-1])"
   ]
  },
  {
   "cell_type": "code",
   "execution_count": 128,
   "id": "43ec98bf",
   "metadata": {},
   "outputs": [],
   "source": [
    "np.random.seed(0)\n",
    "indices = np.random.permutation(m)\n",
    "data = data[indices]\n",
    "A_train=data[0:int(m*(1-0.20))]\n",
    "A_test=data[int(m * (1-0.20)):]"
   ]
  },
  {
   "cell_type": "code",
   "execution_count": 129,
   "id": "fae4df71",
   "metadata": {},
   "outputs": [],
   "source": [
    "pur = 1 - (0.015 * 5)                      \n",
    "num = 2\n",
    "A_train = gen_balls(A_train, pur=pur, delbals=num)\n",
    "\n",
    "Radius=[]\n",
    "for i in A_train:\n",
    "    Radius.append(i[1])\n",
    "Center=[]\n",
    "for ii in A_train:\n",
    "    Center.append(ii[0])\n",
    "Label=[]\n",
    "for iii in A_train:\n",
    "    Label.append(iii[-1])\n",
    "Radius=np.array(Radius)\n",
    "Center=np.array(Center)\n",
    "Label=np.array(Label)\n",
    "Z_train=np.hstack((Center,Radius.reshape(Radius.shape[0], 1)))\n",
    "Lab=Label.reshape(Label.shape[0], 1)\n",
    "A_train=np.hstack((Z_train,Lab))"
   ]
  },
  {
   "cell_type": "code",
   "execution_count": 130,
   "id": "43b7c954",
   "metadata": {},
   "outputs": [],
   "source": [
    "X_train = A_train[:,:-1]\n",
    "X_test = A_test[:,:-1]\n",
    "y_train = A_train[:,-1]\n",
    "y_test = A_test[:,-1]"
   ]
  },
  {
   "cell_type": "code",
   "execution_count": 131,
   "id": "cf04dfa3",
   "metadata": {},
   "outputs": [],
   "source": [
    "accuracy_gbtsvm = evaluate_base_model(GBTSVM, A_train, A_test, 0.1, 0.1, 0.05, 0.05)\n",
    "accuracy_lgbtsvm = evaluate_base_model(LGBTSVM, A_train, A_test, 0.1, 0.1, 0.1, 0.1)\n",
    "accuracy_ovo_gbtsvm = evaluate_model(OvO_GBTSVM, X_train, y_train, X_test, y_test, 0.1, 0.1, 0.05, 0.05)\n",
    "accuracy_ovr_gbtsvm = evaluate_model(OVR_GBTSVM, X_train, y_train, X_test, y_test, 0.1, 0.1, 0.05, 0.05)\n",
    "accuracy_multi_gbtsvm = evaluate_model(MultiLabelGBTSVM, X_train, y_train, X_test, y_test, 0.1, 0.1, 0.05, 0.05)\n",
    "accuracy_ovo_lgbtsvm = evaluate_base_model(OvO_LGBTSVM, A_train, A_test, 0.1, 0.1, 0.1, 0.1)"
   ]
  },
  {
   "cell_type": "code",
   "execution_count": 132,
   "id": "39dec16f",
   "metadata": {},
   "outputs": [
    {
     "name": "stdout",
     "output_type": "stream",
     "text": [
      "Accuracy of GBTSVM: 21.875\n",
      "Accuracy of LGBTSVM: 12.5\n",
      "Accuracy of OvO_GBTSVM: 46.875\n",
      "Accuracy of OVR_GBTSVM: 34.375\n",
      "Accuracy of MultiLabelGBTSVM: 65.625\n",
      "Accuracy of OvO_LGBTSVM: 6.25\n"
     ]
    }
   ],
   "source": [
    "print(f\"Accuracy of GBTSVM: {accuracy_gbtsvm}\")\n",
    "print(f\"Accuracy of LGBTSVM: {accuracy_lgbtsvm}\")\n",
    "print(f\"Accuracy of OvO_GBTSVM: {accuracy_ovo_gbtsvm}\")\n",
    "print(f\"Accuracy of OVR_GBTSVM: {accuracy_ovr_gbtsvm}\")\n",
    "print(f\"Accuracy of MultiLabelGBTSVM: {accuracy_multi_gbtsvm}\")\n",
    "print(f\"Accuracy of OvO_LGBTSVM: {accuracy_ovo_lgbtsvm}\")"
   ]
  },
  {
   "cell_type": "markdown",
   "id": "e3d2eef9",
   "metadata": {},
   "source": [
    "## Global  Cancer"
   ]
  },
  {
   "cell_type": "code",
   "execution_count": 181,
   "id": "f964bebb",
   "metadata": {},
   "outputs": [],
   "source": [
    "# Load dataset\n",
    "df = pd.read_csv(\"Dataset/globalcancer.csv\", sep=\",\")\n",
    "df.drop(columns=['Patient_ID', 'Gender', 'Year', 'Cancer_Type', 'Country_Region'], inplace=True)\n",
    "cancer_stage_col = df.pop('Cancer_Stage')\n",
    "df['Cancer_Stage'] = cancer_stage_col\n",
    "target_col = ['Cancer_Stage']\n",
    "enc_target = OrdinalEncoder()\n",
    "df[target_col] = enc_target.fit_transform(df[target_col]).astype(np.float64)\n",
    "changed_col = ['Age', 'Genetic_Risk', 'Air_Pollution', 'Alcohol_Use', 'Smoking',\n",
    "               'Obesity_Level', 'Treatment_Cost_USD', 'Survival_Years', 'Target_Severity_Score']\n",
    "\n",
    "for col in changed_col:\n",
    "    df[col] = pd.qcut(df[col], q=8, duplicates=\"drop\").cat.codes.astype(np.float64)\n",
    "df['Cancer_Stage_Binary'] = df['Cancer_Stage'].apply(lambda x: 0 if x <= 1 else 1)\n",
    "df.drop(columns=['Cancer_Stage'], inplace=True)"
   ]
  },
  {
   "cell_type": "code",
   "execution_count": 182,
   "id": "0cb30185",
   "metadata": {},
   "outputs": [],
   "source": [
    "X = df.iloc[:,:-1]\n",
    "y = df.iloc[:,-1]\n",
    "smote = SMOTE(random_state=42)\n",
    "X_res, y_res = SMOTE().fit_resample(X, y)\n",
    "df = pd.concat([X_res, y_res], axis=1)"
   ]
  },
  {
   "cell_type": "code",
   "execution_count": 183,
   "id": "2b9f116b",
   "metadata": {},
   "outputs": [],
   "source": [
    "data  = df.to_numpy(dtype=np.float64)\n",
    "m,n = data.shape"
   ]
  },
  {
   "cell_type": "code",
   "execution_count": 184,
   "id": "f9c99422",
   "metadata": {},
   "outputs": [],
   "source": [
    "data = data[0:int(m*(1-0.98))]\n",
    "m,n = data.shape"
   ]
  },
  {
   "cell_type": "code",
   "execution_count": 175,
   "id": "01540751",
   "metadata": {},
   "outputs": [],
   "source": [
    "scaler = MinMaxScaler(feature_range=(-1, 1))\n",
    "data[:, :-1] = scaler.fit_transform(data[:, :-1])"
   ]
  },
  {
   "cell_type": "code",
   "execution_count": 185,
   "id": "9a671b2b",
   "metadata": {},
   "outputs": [],
   "source": [
    "np.random.seed(0)\n",
    "indices = np.random.permutation(m)\n",
    "data = data[indices]\n",
    "A_train=data[0:int(m*(1-0.20))]\n",
    "A_test=data[int(m * (1-0.20)):]"
   ]
  },
  {
   "cell_type": "code",
   "execution_count": 186,
   "id": "5d11d65b",
   "metadata": {},
   "outputs": [],
   "source": [
    "pur = 1 - (0.015 * 15)                      \n",
    "num = 1\n",
    "A_train = gen_balls(A_train, pur=pur, delbals=num)\n",
    "\n",
    "Radius=[]\n",
    "for i in A_train:\n",
    "    Radius.append(i[1])\n",
    "Center=[]\n",
    "for ii in A_train:\n",
    "    Center.append(ii[0])\n",
    "Label=[]\n",
    "for iii in A_train:\n",
    "    Label.append(iii[-1])\n",
    "Radius=np.array(Radius)\n",
    "Center=np.array(Center)\n",
    "Label=np.array(Label)\n",
    "Z_train=np.hstack((Center,Radius.reshape(Radius.shape[0], 1)))\n",
    "Lab=Label.reshape(Label.shape[0], 1)\n",
    "A_train=np.hstack((Z_train,Lab))"
   ]
  },
  {
   "cell_type": "code",
   "execution_count": 187,
   "id": "be222f93",
   "metadata": {},
   "outputs": [],
   "source": [
    "X_train = A_train[:,:-1]\n",
    "X_test = A_test[:,:-1]\n",
    "y_train = A_train[:,-1]\n",
    "y_test = A_test[:,-1]"
   ]
  },
  {
   "cell_type": "code",
   "execution_count": 188,
   "id": "c9507d67",
   "metadata": {},
   "outputs": [],
   "source": [
    "accuracy_gbtsvm = evaluate_base_model(GBTSVM, A_train, A_test, 0.1, 0.1, 0.05, 0.05)\n",
    "accuracy_lgbtsvm = evaluate_base_model(LGBTSVM, A_train, A_test, 0.1, 0.1, 0.1, 0.1)\n",
    "accuracy_ovo_gbtsvm = evaluate_model(OvO_GBTSVM, X_train, y_train, X_test, y_test, 0.1, 0.1, 0.05, 0.05)\n",
    "accuracy_ovr_gbtsvm = evaluate_model(OVR_GBTSVM, X_train, y_train, X_test, y_test, 0.1, 0.1, 0.05, 0.05)\n",
    "accuracy_multi_gbtsvm = evaluate_model(MultiLabelGBTSVM, X_train, y_train, X_test, y_test, 0.1, 0.1, 0.05, 0.05)\n",
    "accuracy_ovo_lgbtsvm = evaluate_base_model(OvO_LGBTSVM, A_train, A_test, 0.1, 0.1, 0.1, 0.1)"
   ]
  },
  {
   "cell_type": "code",
   "execution_count": 189,
   "id": "f640cf15",
   "metadata": {},
   "outputs": [
    {
     "name": "stdout",
     "output_type": "stream",
     "text": [
      "Accuracy of GBTSVM: 50.20746887966805\n",
      "Accuracy of LGBTSVM: 46.88796680497925\n",
      "Accuracy of OvO_GBTSVM: 61.82572614107884\n",
      "Accuracy of OVR_GBTSVM: 61.82572614107884\n",
      "Accuracy of MultiLabelGBTSVM: 61.82572614107884\n",
      "Accuracy of OvO_LGBTSVM: 55.18672199170125\n"
     ]
    }
   ],
   "source": [
    "print(f\"Accuracy of GBTSVM: {accuracy_gbtsvm}\")\n",
    "print(f\"Accuracy of LGBTSVM: {accuracy_lgbtsvm}\")\n",
    "print(f\"Accuracy of OvO_GBTSVM: {accuracy_ovo_gbtsvm}\")\n",
    "print(f\"Accuracy of OVR_GBTSVM: {accuracy_ovr_gbtsvm}\")\n",
    "print(f\"Accuracy of MultiLabelGBTSVM: {accuracy_multi_gbtsvm}\")\n",
    "print(f\"Accuracy of OvO_LGBTSVM: {accuracy_ovo_lgbtsvm}\")"
   ]
  },
  {
   "cell_type": "markdown",
   "id": "f0ac8d18",
   "metadata": {},
   "source": [
    "## Seeds"
   ]
  },
  {
   "cell_type": "code",
   "execution_count": 28,
   "id": "26512bba",
   "metadata": {},
   "outputs": [],
   "source": [
    "seed =  70\n",
    "df = pd.read_csv('Dataset/seeds_dataset.txt', delim_whitespace=True, header=None)\n",
    "df.columns = [\n",
    "    'Area', \n",
    "    'Perimeter', \n",
    "    'Compactness', \n",
    "    'KernelLength', \n",
    "    'KernelWidth', \n",
    "    'AsymmetryCoeff', \n",
    "    'KernelGrooveLength', \n",
    "    'Class'\n",
    "]\n",
    "Q1 = df.quantile(0.25)\n",
    "Q3 = df.quantile(0.75)\n",
    "IQR = Q3 - Q1\n",
    "mask = ~((df < (Q1 - 1.5 * IQR)) | (df > (Q3 + 1.5 * IQR))).any(axis=1)\n",
    "df_clean = df[mask]"
   ]
  },
  {
   "cell_type": "code",
   "execution_count": 29,
   "id": "b8063d07",
   "metadata": {},
   "outputs": [],
   "source": [
    "X = df_clean.iloc[:,:-1]\n",
    "y = df_clean.iloc[:,-1]\n",
    "smote = SMOTE(random_state=42)\n",
    "X_res, y_res = SMOTE().fit_resample(X, y)\n",
    "df = pd.concat([X_res, y_res], axis=1)"
   ]
  },
  {
   "cell_type": "code",
   "execution_count": 30,
   "id": "d84515b2",
   "metadata": {},
   "outputs": [],
   "source": [
    "data  = df.to_numpy(dtype=np.float64)\n",
    "m,n = data.shape"
   ]
  },
  {
   "cell_type": "code",
   "execution_count": 81,
   "id": "27c19185",
   "metadata": {},
   "outputs": [],
   "source": [
    "data = {\n",
    "    \"Dataset\": [\n",
    "        \"Balance\", \"Dermatology\", \"Ecoli\", \"Glass\", \"Hayes-roth\", \n",
    "        \"Iris\", \"Image-segmentation\", \"Seeds\", \"Teaching Evaluation\"\n",
    "    ],\n",
    "    \"#Instances\": [625, 358, 327, 214, 132, 150, 210, 210, 151],\n",
    "    \"#Features\": [4, 4, 7, 9, 5, 4, 19, 7, 5],\n",
    "    \"#Classes\": [3, 6, 5, 6, 3, 3, 7, 3, 3]\n",
    "}\n",
    "\n",
    "df = pd.DataFrame(data)\n",
    "\n",
    "# Lưu DataFrame thành file Excel\n",
    "excel_path = \"Dataset/datasets_summary.xlsx\"\n",
    "df.to_excel(excel_path, index=False)"
   ]
  }
 ],
 "metadata": {
  "kernelspec": {
   "display_name": "base",
   "language": "python",
   "name": "python3"
  },
  "language_info": {
   "codemirror_mode": {
    "name": "ipython",
    "version": 3
   },
   "file_extension": ".py",
   "mimetype": "text/x-python",
   "name": "python",
   "nbconvert_exporter": "python",
   "pygments_lexer": "ipython3",
   "version": "3.11.7"
  }
 },
 "nbformat": 4,
 "nbformat_minor": 5
}
