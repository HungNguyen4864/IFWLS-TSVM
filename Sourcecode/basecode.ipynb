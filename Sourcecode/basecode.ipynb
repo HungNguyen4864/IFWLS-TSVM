{
 "cells": [
  {
   "cell_type": "code",
   "execution_count": 1,
   "metadata": {},
   "outputs": [],
   "source": [
    "import pandas as pd\n",
    "import numpy as np\n",
    "import time \n",
    "import os\n",
    "from gen_ball import gen_balls\n",
    "from classGBTSVM import OvO_GBTSVM, GBTSVM\n",
    "from classLGBTSVM import LGBTSVM, OvO_LGBTSVM, OvR_LGBTSVM\n",
    "from classPinGBTSVM import PinGBTSVM, OvO_PinGBTSVM, OVR_PinGBTSVM"
   ]
  },
  {
   "cell_type": "code",
   "execution_count": 2,
   "metadata": {},
   "outputs": [],
   "source": [
    "directory = r\"D:/LGBTSVM_MCD/LGBTSVM-MCD/Dataset\"\n",
    "file_path = os.path.join(directory, \"chess_krvkp.csv\")\n",
    "file_data = np.loadtxt(file_path, delimiter=',')\n",
    "m, n = file_data.shape\n",
    "for i in range(m):\n",
    "    if file_data[i, n-1] == 0:\n",
    "        file_data[i, n-1] = -1"
   ]
  },
  {
   "cell_type": "code",
   "execution_count": 3,
   "metadata": {},
   "outputs": [],
   "source": [
    "np.random.seed(0)\n",
    "indices = np.random.permutation(m)\n",
    "file_data = file_data[indices]\n",
    "A_train=file_data[0:int(m*(1-0.20))]\n",
    "A_test=file_data[int(m * (1-0.20)):]"
   ]
  },
  {
   "cell_type": "code",
   "execution_count": 4,
   "metadata": {},
   "outputs": [],
   "source": [
    "pur = 1 - (0.015 * 5)                      \n",
    "num = 4\n",
    "c1=0.00001\n",
    "c2=0.00001\n",
    "            \n",
    "A_train = gen_balls(A_train, pur=pur, delbals=num)\n",
    "\n",
    "Radius=[]\n",
    "for i in A_train:\n",
    "    Radius.append(i[1])\n",
    "Center=[]\n",
    "for ii in A_train:\n",
    "    Center.append(ii[0])\n",
    "Label=[]\n",
    "for iii in A_train:\n",
    "    Label.append(iii[-1])\n",
    "Radius=np.array(Radius)\n",
    "Center=np.array(Center)\n",
    "Label=np.array(Label)\n",
    "Z_train=np.hstack((Center,Radius.reshape(Radius.shape[0], 1)))\n",
    "Lab=Label.reshape(Label.shape[0], 1)\n",
    "A_train=np.hstack((Z_train,Lab))"
   ]
  },
  {
   "cell_type": "code",
   "execution_count": 5,
   "metadata": {},
   "outputs": [],
   "source": [
    "gbtsvm = GBTSVM(d1=0.1, d2=0.1, eps1=0.05, eps2=0.05)\n",
    "lgbtsvm = LGBTSVM(d1=0.1, d2=0.1, d3=0.1, d4=0.1)\n",
    "pingbtsvm= PinGBTSVM(d1=0.1, d2=0.1, eps1=0.05, eps2=0.05, tau=1)\n",
    "gbtsvm.fit(A_train)\n",
    "lgbtsvm.fit(A_train)\n",
    "pingbtsvm.fit(A_train)\n",
    "accuracy_gbtsvm = gbtsvm.score(A_test)\n",
    "accuracy_lgbtsvm = lgbtsvm.score(A_test)\n",
    "accuracy_pingbtsvm = pingbtsvm.score(A_test)"
   ]
  },
  {
   "cell_type": "code",
   "execution_count": 6,
   "metadata": {},
   "outputs": [
    {
     "data": {
      "text/plain": [
       "(88.75, 91.40625, 88.4375)"
      ]
     },
     "execution_count": 6,
     "metadata": {},
     "output_type": "execute_result"
    }
   ],
   "source": [
    "accuracy_gbtsvm,accuracy_lgbtsvm, accuracy_pingbtsvm"
   ]
  },
  {
   "cell_type": "code",
   "execution_count": 7,
   "metadata": {},
   "outputs": [],
   "source": [
    "X_train = A_train[:,:-1]\n",
    "X_test = A_test[:,:-1]\n",
    "y_train = A_train[:,-1]\n",
    "y_test = A_test[:,-1]"
   ]
  },
  {
   "cell_type": "code",
   "execution_count": 8,
   "metadata": {},
   "outputs": [
    {
     "data": {
      "text/plain": [
       "88.75"
      ]
     },
     "execution_count": 8,
     "metadata": {},
     "output_type": "execute_result"
    }
   ],
   "source": [
    "ovo_gbtsvm = OvO_GBTSVM(d1=0.1, d2=0.1, eps1=0.05, eps2=0.05)\n",
    "ovo_gbtsvm.fit(X_train, y_train)\n",
    "accuracy = ovo_gbtsvm.score(X_test, y_test)\n",
    "accuracy"
   ]
  },
  {
   "cell_type": "code",
   "execution_count": 9,
   "metadata": {},
   "outputs": [
    {
     "data": {
      "text/plain": [
       "88.75"
      ]
     },
     "execution_count": 9,
     "metadata": {},
     "output_type": "execute_result"
    }
   ],
   "source": [
    "ovr_gbtsvm = OvO_GBTSVM(d1=0.1, d2=0.1, eps1=0.05, eps2=0.05)\n",
    "ovr_gbtsvm.fit(X_train, y_train)\n",
    "accuracy = ovr_gbtsvm.score(X_test, y_test)\n",
    "accuracy"
   ]
  },
  {
   "cell_type": "code",
   "execution_count": 10,
   "metadata": {},
   "outputs": [
    {
     "data": {
      "text/plain": [
       "91.40625"
      ]
     },
     "execution_count": 10,
     "metadata": {},
     "output_type": "execute_result"
    }
   ],
   "source": [
    "ovo_lgbtsvm = OvO_LGBTSVM(d1=0.1, d2=0.1, d3=0.1, d4=0.1)\n",
    "ovo_lgbtsvm.fit(A_train)\n",
    "accuracy = ovo_lgbtsvm.score(A_test)\n",
    "accuracy"
   ]
  },
  {
   "cell_type": "code",
   "execution_count": 11,
   "metadata": {},
   "outputs": [
    {
     "data": {
      "text/plain": [
       "91.40625"
      ]
     },
     "execution_count": 11,
     "metadata": {},
     "output_type": "execute_result"
    }
   ],
   "source": [
    "ovr_lgbtsvm = OvR_LGBTSVM(d1=0.1, d2=0.1, d3=0.1, d4=0.1)\n",
    "ovr_lgbtsvm.fit(A_train)\n",
    "accuracy = ovr_lgbtsvm.score(A_test)\n",
    "accuracy"
   ]
  },
  {
   "cell_type": "code",
   "execution_count": 12,
   "metadata": {},
   "outputs": [
    {
     "data": {
      "text/plain": [
       "88.4375"
      ]
     },
     "execution_count": 12,
     "metadata": {},
     "output_type": "execute_result"
    }
   ],
   "source": [
    "ovo_pingbtsvm = OvO_PinGBTSVM(d1=0.1, d2=0.1, eps1=0.05, eps2=0.05, tau=1)\n",
    "ovo_pingbtsvm.fit(X_train, y_train)\n",
    "accuracy = ovo_pingbtsvm.score(X_test, y_test)\n",
    "accuracy"
   ]
  },
  {
   "cell_type": "code",
   "execution_count": 13,
   "metadata": {},
   "outputs": [
    {
     "data": {
      "text/plain": [
       "88.4375"
      ]
     },
     "execution_count": 13,
     "metadata": {},
     "output_type": "execute_result"
    }
   ],
   "source": [
    "ovr_pingbtsvm = OVR_PinGBTSVM(d1=0.1, d2=0.1, eps1=0.05, eps2=0.05, tau=1)\n",
    "ovr_pingbtsvm.fit(X_train, y_train)\n",
    "accuracy = ovr_pingbtsvm.score(X_test, y_test)\n",
    "accuracy"
   ]
  }
 ],
 "metadata": {
  "kernelspec": {
   "display_name": "base",
   "language": "python",
   "name": "python3"
  },
  "language_info": {
   "codemirror_mode": {
    "name": "ipython",
    "version": 3
   },
   "file_extension": ".py",
   "mimetype": "text/x-python",
   "name": "python",
   "nbconvert_exporter": "python",
   "pygments_lexer": "ipython3",
   "version": "3.11.7"
  }
 },
 "nbformat": 4,
 "nbformat_minor": 2
}
